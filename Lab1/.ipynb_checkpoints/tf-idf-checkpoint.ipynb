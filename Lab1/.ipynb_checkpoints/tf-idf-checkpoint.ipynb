{
 "cells": [
  {
   "cell_type": "code",
   "execution_count": 1,
   "metadata": {},
   "outputs": [],
   "source": [
    "import numpy\n",
    "import pylab\n",
    "import math\n",
    "import matplotlib.pyplot as plt\n",
    "from textblob import TextBlob as tb"
   ]
  },
  {
   "cell_type": "code",
   "execution_count": 2,
   "metadata": {},
   "outputs": [],
   "source": [
    "def tf(word, blob):\n",
    "    return blob.words.count(word) / float(len(blob.words))\n",
    "\n",
    "def n_containing(word, bloblist):\n",
    "    return sum(1 for blob in bloblist if word in blob)\n",
    "\n",
    "def idf(word, bloblist):\n",
    "    ret = math.log(len(bloblist) / (1.0 + n_containing(word, bloblist)))\n",
    "    if (ret < 0.0):\n",
    "        return 0.0\n",
    "    return ret\n",
    "\n",
    "def tfidf(word, blob, bloblist):\n",
    "    return tf(word, blob) * idf(word, bloblist)\n",
    "\n",
    "## TODO: write your own functions for tf and idf\n",
    "def my_tf(word, blob):\n",
    "    count = 0\n",
    "    words = blob.split()\n",
    "    for w in words:\n",
    "        if word==w:\n",
    "            count+=1\n",
    "\n",
    "    return count/float(len(words))"
   ]
  },
  {
   "cell_type": "code",
   "execution_count": 3,
   "metadata": {},
   "outputs": [
    {
     "name": "stdout",
     "output_type": "stream",
     "text": [
      "Top 10 words in document 1:\n",
      "     Word: A               | TF-IDF: 0.02841\n",
      "     Word: python          | TF-IDF: 0.02841\n",
      "     Word: films           | TF-IDF: 0.01704\n",
      "     Word: The             | TF-IDF: 0.01415\n",
      "     Word: the             | TF-IDF: 0.01415\n",
      "     Word: made-for-TV     | TF-IDF: 0.01136\n",
      "     Word: film            | TF-IDF: 0.01136\n",
      "     Word: California      | TF-IDF: 0.01136\n",
      "     Word: Nightmare       | TF-IDF: 0.00568\n",
      "     Word: unleashes       | TF-IDF: 0.00568\n",
      "Top 10 words in document 2:\n",
      "     Word: language        | TF-IDF: 0.13863\n",
      "     Word: programming     | TF-IDF: 0.10397\n",
      "     Word: nice            | TF-IDF: 0.03466\n",
      "     Word: engineers       | TF-IDF: 0.03466\n",
      "     Word: used            | TF-IDF: 0.03466\n",
      "     Word: researchers     | TF-IDF: 0.03466\n",
      "     Word: data            | TF-IDF: 0.03466\n",
      "     Word: scientists      | TF-IDF: 0.03466\n",
      "     Word: very            | TF-IDF: 0.03466\n",
      "     Word: many            | TF-IDF: 0.03466\n",
      "Top 10 words in document 3:\n",
      "     Word: Magnum          | TF-IDF: 0.02336\n",
      "     Word: Colt            | TF-IDF: 0.02336\n",
      "     Word: revolver        | TF-IDF: 0.02336\n",
      "     Word: the             | TF-IDF: 0.01939\n",
      "     Word: The             | TF-IDF: 0.01939\n",
      "     Word: 's              | TF-IDF: 0.01558\n",
      "     Word: as              | TF-IDF: 0.01293\n",
      "     Word: Dougherty       | TF-IDF: 0.00779\n",
      "     Word: 44              | TF-IDF: 0.00779\n",
      "     Word: Hogg            | TF-IDF: 0.00779\n",
      "Top 10 words in document 4:\n",
      "     Word: hello           | TF-IDF: 0.69315\n"
     ]
    }
   ],
   "source": [
    "doc1 = tb(\"\"\"Python is a 2000 made-for-TV horror movie directed by Richard\n",
    "Clabaugh. The film features several cult favorite actors, including William\n",
    "Zabka of The Karate Kid fame, Wil Wheaton, Casper Van Dien, Jenny McCarthy,\n",
    "Keith Coogan, Robert Englund (best known for his role as Freddy Krueger in the\n",
    "A Nightmare on Elm Street series of films), Dana Barron, David Bowe, and Sean\n",
    "Whalen. The film concerns a genetically engineered snake, a python, that\n",
    "escapes and unleashes itself on a small town. It includes the classic final\n",
    "girl scenario evident in films like Friday the 13th. It was filmed in Los Angeles,\n",
    " California and Malibu, California. Python was followed by two sequels: Python\n",
    " II (2002) and Boa vs. Python (2004), both also made-for-TV films.\"\"\")\n",
    "\n",
    "doc2 = tb(\"\"\" Python is a very nice programming programming programming language\n",
    "language language language used by many researchers, engineers and data scientists.\"\"\")\n",
    "\n",
    "doc3 = tb(\"\"\"The Colt Python is a .357 Magnum caliber revolver formerly\n",
    "manufactured by Colt's Manufacturing Company of Hartford, Connecticut.\n",
    "It is sometimes referred to as a \"Combat Magnum\".[1] It was first introduced\n",
    "in 1955, the same year as Smith &amp; Wesson's M29 .44 Magnum. The now discontinued\n",
    "Colt Python targeted the premium revolver market segment. Some firearm\n",
    "collectors and writers such as Jeff Cooper, Ian V. Hogg, Chuck Hawks, Leroy\n",
    "Thompson, Renee Smeets and Martin Dougherty have described the Python as the\n",
    "finest production revolver ever made.\"\"\")\n",
    "\n",
    "doc4 = tb(\"\"\"hello hello hello hello hello hello hello hello hello hello hello\"\"\")\n",
    "\n",
    "bloblist = [doc1, doc2, doc3, doc4]\n",
    "\n",
    "num_docs = len(bloblist)\n",
    "\n",
    "top = 10\n",
    "\n",
    "## TODO: print top words per document\n",
    "for i, blob in enumerate(bloblist):\n",
    "    print(\"Top {} words in document {}:\".format(top, i+1))\n",
    "\n",
    "    tf_idf = sorted([(tfidf(word, blob, bloblist), word) for word in set(blob.words)], key=lambda x: x[0], reverse=True)\n",
    "\n",
    "    for word in tf_idf[:top]:\n",
    "        print(\"     Word: {:15s} | TF-IDF: {}\".format(word[1], round(word[0],5)))"
   ]
  },
  {
   "cell_type": "code",
   "execution_count": null,
   "metadata": {},
   "outputs": [],
   "source": []
  }
 ],
 "metadata": {
  "kernelspec": {
   "display_name": "Python 3",
   "language": "python",
   "name": "python3"
  },
  "language_info": {
   "codemirror_mode": {
    "name": "ipython",
    "version": 3
   },
   "file_extension": ".py",
   "mimetype": "text/x-python",
   "name": "python",
   "nbconvert_exporter": "python",
   "pygments_lexer": "ipython3",
   "version": "3.6.3"
  }
 },
 "nbformat": 4,
 "nbformat_minor": 2
}
