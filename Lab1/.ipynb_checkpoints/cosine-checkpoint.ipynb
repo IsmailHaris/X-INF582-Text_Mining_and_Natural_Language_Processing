{
 "cells": [
  {
   "cell_type": "code",
   "execution_count": 1,
   "metadata": {},
   "outputs": [],
   "source": [
    "import math\n",
    "from sklearn.feature_extraction.text import TfidfVectorizer\n",
    "from sklearn.metrics.pairwise import cosine_similarity"
   ]
  },
  {
   "cell_type": "code",
   "execution_count": 2,
   "metadata": {},
   "outputs": [],
   "source": [
    "# here we define our document collection which contains 5 documents\n",
    "# this is an array of strings\n",
    "documents = [\"Euler is the father of graph theory\",\n",
    "             \"Graph theory studies the properties of graphs\",\n",
    "             \"Bioinformatics studies the application of efficient algorithms in biological problems\",\n",
    "             \"DNA sequences are very complex biological structures\",\n",
    "             \"Genes are parts of a DNA sequence\"]\n",
    "\n",
    "tfidf_vectorizer = TfidfVectorizer()"
   ]
  },
  {
   "cell_type": "code",
   "execution_count": 3,
   "metadata": {
    "scrolled": true
   },
   "outputs": [
    {
     "name": "stdout",
     "output_type": "stream",
     "text": [
      "  (0, 8)\t0.4442143564455307\n",
      "  (0, 14)\t0.4442143564455307\n",
      "  (0, 23)\t0.2974955316311179\n",
      "  (0, 9)\t0.4442143564455307\n",
      "  (0, 15)\t0.2502626198745014\n",
      "  (0, 11)\t0.3583893457792226\n",
      "  (0, 24)\t0.3583893457792226\n",
      "  (1, 23)\t0.3083034814908922\n",
      "  (1, 15)\t0.25935460802151405\n",
      "  (1, 11)\t0.3714095550516834\n",
      "  (1, 24)\t0.3714095550516834\n",
      "  (1, 22)\t0.3714095550516834\n",
      "  (1, 18)\t0.4603525702369509\n",
      "  (1, 12)\t0.4603525702369509\n",
      "  (2, 23)\t0.23578260125361059\n",
      "  (2, 15)\t0.1983477573159667\n",
      "  (2, 22)\t0.28404450899176437\n",
      "  (2, 3)\t0.35206584751933884\n",
      "  (2, 1)\t0.35206584751933884\n",
      "  (2, 7)\t0.35206584751933884\n",
      "  (2, 0)\t0.35206584751933884\n",
      "  (2, 13)\t0.35206584751933884\n",
      "  (2, 4)\t0.28404450899176437\n",
      "  (2, 17)\t0.35206584751933884\n",
      "  (3, 4)\t0.33067681238156543\n",
      "  (3, 6)\t0.33067681238156543\n",
      "  (3, 20)\t0.40986538560224284\n",
      "  (3, 2)\t0.33067681238156543\n",
      "  (3, 25)\t0.40986538560224284\n",
      "  (3, 5)\t0.40986538560224284\n",
      "  (3, 21)\t0.40986538560224284\n",
      "  (4, 15)\t0.26213107330293306\n",
      "  (4, 6)\t0.3753856006004972\n",
      "  (4, 2)\t0.3753856006004972\n",
      "  (4, 10)\t0.46528077621032954\n",
      "  (4, 16)\t0.46528077621032954\n",
      "  (4, 19)\t0.46528077621032954\n"
     ]
    }
   ],
   "source": [
    "## TODO: get the matrix\n",
    "tfidf_matrix_sparse = tfidf_vectorizer.fit_transform(documents)\n",
    "print(tfidf_matrix_sparse)"
   ]
  },
  {
   "cell_type": "code",
   "execution_count": 4,
   "metadata": {},
   "outputs": [
    {
     "name": "stdout",
     "output_type": "stream",
     "text": [
      "The unique terms of the collection are: \n",
      "['algorithms', 'application', 'are', 'bioinformatics', 'biological', 'complex', 'dna', 'efficient', 'euler', 'father', 'genes', 'graph', 'graphs', 'in', 'is', 'of', 'parts', 'problems', 'properties', 'sequence', 'sequences', 'structures', 'studies', 'the', 'theory', 'very']\n",
      "The dimensionality of the tfidf matrix is: \n",
      "(5, 26)\n"
     ]
    }
   ],
   "source": [
    "# get the unique terms of the collection and display them\n",
    "terms = tfidf_vectorizer.get_feature_names()\n",
    "\n",
    "print(\"The unique terms of the collection are: \")\n",
    "print(terms)\n",
    "\n",
    "# print matrix dimensionality\n",
    "print(\"The dimensionality of the tfidf matrix is: \")\n",
    "print(tfidf_matrix_sparse.shape)\n",
    "\n",
    "# print matrix contents"
   ]
  },
  {
   "cell_type": "code",
   "execution_count": 5,
   "metadata": {},
   "outputs": [
    {
     "name": "stdout",
     "output_type": "stream",
     "text": [
      "[[0.         0.         0.         0.         0.         0.\n",
      "  0.         0.         0.44421436 0.44421436 0.         0.35838935\n",
      "  0.         0.         0.44421436 0.25026262 0.         0.\n",
      "  0.         0.         0.         0.         0.         0.29749553\n",
      "  0.35838935 0.        ]\n",
      " [0.         0.         0.         0.         0.         0.\n",
      "  0.         0.         0.         0.         0.         0.37140956\n",
      "  0.46035257 0.         0.         0.25935461 0.         0.\n",
      "  0.46035257 0.         0.         0.         0.37140956 0.30830348\n",
      "  0.37140956 0.        ]\n",
      " [0.35206585 0.35206585 0.         0.35206585 0.28404451 0.\n",
      "  0.         0.35206585 0.         0.         0.         0.\n",
      "  0.         0.35206585 0.         0.19834776 0.         0.35206585\n",
      "  0.         0.         0.         0.         0.28404451 0.2357826\n",
      "  0.         0.        ]\n",
      " [0.         0.         0.33067681 0.         0.33067681 0.40986539\n",
      "  0.33067681 0.         0.         0.         0.         0.\n",
      "  0.         0.         0.         0.         0.         0.\n",
      "  0.         0.         0.40986539 0.40986539 0.         0.\n",
      "  0.         0.40986539]\n",
      " [0.         0.         0.3753856  0.         0.         0.\n",
      "  0.3753856  0.         0.         0.         0.46528078 0.\n",
      "  0.         0.         0.         0.26213107 0.46528078 0.\n",
      "  0.         0.46528078 0.         0.         0.         0.\n",
      "  0.         0.        ]]\n"
     ]
    }
   ],
   "source": [
    "## TODO: get the tabular form of the tf-idf matrix.\n",
    "tfidf_matrix_dense = tfidf_matrix_sparse.todense()\n",
    "print(tfidf_matrix_dense)"
   ]
  },
  {
   "cell_type": "code",
   "execution_count": 6,
   "metadata": {},
   "outputs": [
    {
     "name": "stdout",
     "output_type": "stream",
     "text": [
      "This is the doc-doc similarity matrix :\n",
      "[[1.         0.42284413 0.1197833  0.         0.06560161]\n",
      " [0.42284413 1.         0.22963185 0.         0.0679849 ]\n",
      " [0.1197833  0.22963185 1.         0.09392693 0.05199311]\n",
      " [0.         0.         0.09392693 1.         0.24826263]\n",
      " [0.06560161 0.0679849  0.05199311 0.24826263 1.        ]]\n",
      "Diagonals of ones (since cosine between a document and itself is <X,X>/||X||^2 = 1)\n",
      "The matrix si simetric since cosine(X,Y) = cosine(Y,X)\n"
     ]
    }
   ],
   "source": [
    "## TODO: compute the doc-doc similarity matrix.\n",
    "ddsim_matrix = cosine_similarity(tfidf_matrix_dense)\n",
    "\n",
    "# define the doc-doc similarity matrix based on the cosine distance\n",
    "print(\"This is the doc-doc similarity matrix :\")\n",
    "print(ddsim_matrix)\n",
    "print(\"Diagonals of ones (since cosine between a document and itself is <X,X>/||X||^2 = 1)\")\n",
    "print(\"The matrix si simetric since cosine(X,Y) = cosine(Y,X)\")"
   ]
  },
  {
   "cell_type": "code",
   "execution_count": 7,
   "metadata": {},
   "outputs": [
    {
     "name": "stdout",
     "output_type": "stream",
     "text": [
      "The first row of the doc-doc similarity matrix: \n",
      "[[1.         0.42284413 0.1197833  0.         0.06560161]]\n",
      "The cosine of the angle between doc1 and doc2 is : \t0.42284413\n",
      "The angle (in radians) between doc1 and doc2 is  : \t1.1342147812610444\n",
      "The angle (in degrees) between doc1 and doc2 is  : \t64.98572002761169\n"
     ]
    }
   ],
   "source": [
    "# display the first line of the similarity matrix\n",
    "# these are the similarity values between the first document with the rest of the documents\n",
    "print(\"The first row of the doc-doc similarity matrix: \")\n",
    "print(ddsim_matrix[:1])\n",
    "\n",
    "cosine_1_2 = 0.42284413\n",
    "angle_in_radians = math.acos(cosine_1_2)\n",
    "angle_in_degrees = math.degrees(angle_in_radians)\n",
    "print(\"The cosine of the angle between doc1 and doc2 is : \\t\" + str(cosine_1_2))\n",
    "print(\"The angle (in radians) between doc1 and doc2 is  : \\t\"  + str(angle_in_radians))\n",
    "print(\"The angle (in degrees) between doc1 and doc2 is  : \\t\"  + str(angle_in_degrees))"
   ]
  }
 ],
 "metadata": {
  "kernelspec": {
   "display_name": "Python 3",
   "language": "python",
   "name": "python3"
  },
  "language_info": {
   "codemirror_mode": {
    "name": "ipython",
    "version": 3
   },
   "file_extension": ".py",
   "mimetype": "text/x-python",
   "name": "python",
   "nbconvert_exporter": "python",
   "pygments_lexer": "ipython3",
   "version": "3.6.3"
  }
 },
 "nbformat": 4,
 "nbformat_minor": 2
}
