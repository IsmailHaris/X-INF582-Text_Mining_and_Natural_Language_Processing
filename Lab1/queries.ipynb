{
 "cells": [
  {
   "cell_type": "code",
   "execution_count": 1,
   "metadata": {},
   "outputs": [],
   "source": [
    "import math\n",
    "from sklearn.feature_extraction.text import TfidfVectorizer"
   ]
  },
  {
   "cell_type": "code",
   "execution_count": 2,
   "metadata": {},
   "outputs": [],
   "source": [
    "documents = [\"Euler is the father of graph theory\",\n",
    "             \"Graph theory studies the properties of graphs\",\n",
    "             \"Bioinformatics studies the application of efficient algorithms in biological problems\",\n",
    "             \"DNA sequences are very complex structures\",\n",
    "             \"Genes are parts of a DNA sequence\",\n",
    "             \"Run to the hills, run for your lives\",\n",
    "             \"The lonenliness of the long distance runner\",\n",
    "             \"Heaven can wait til another day\",\n",
    "             \"Road runner and coyote is my favorite cartoon\",\n",
    "             \"Heaven can wait\"] # the last document is our query (orignially \"Heaven can can Heaven can graph\" but changed to \"\" to match the lab sheet)"
   ]
  },
  {
   "cell_type": "code",
   "execution_count": 3,
   "metadata": {},
   "outputs": [],
   "source": [
    "def my_cosine_similarity(vector1, vector2):\n",
    "    ## TODO: complete the lines as given in the description\n",
    "    dot_product = sum(p*q for p,q in zip(vector1, vector2))\n",
    "    magnitude = math.sqrt(sum([val**2 for val in vector1])) * math.sqrt(sum([val**2 for val in vector2]))\n",
    "    if magnitude:\n",
    "        return dot_product/magnitude\n",
    "    return 0"
   ]
  },
  {
   "cell_type": "code",
   "execution_count": 4,
   "metadata": {
    "scrolled": true
   },
   "outputs": [],
   "source": [
    "tfidf_vectorizer = TfidfVectorizer()\n",
    "## TODO: get the tabular form of the tf-idf matrix\n",
    "tfidf_matrix = tfidf_vectorizer.fit_transform(documents).todense().A # N"
   ]
  },
  {
   "cell_type": "code",
   "execution_count": 5,
   "metadata": {},
   "outputs": [
    {
     "name": "stdout",
     "output_type": "stream",
     "text": [
      "Similarity among the query and the documents: \n",
      "     cosine(0,query) = 0.0\n",
      "     cosine(1,query) = 0.0\n",
      "     cosine(2,query) = 0.0\n",
      "     cosine(3,query) = 0.0\n",
      "     cosine(4,query) = 0.0\n",
      "     cosine(5,query) = 0.0\n",
      "     cosine(6,query) = 0.0\n",
      "     cosine(7,query) = 0.6476888299953736\n",
      "     cosine(8,query) = 0.0\n"
     ]
    }
   ],
   "source": [
    "print(\"Similarity among the query and the documents: \")\n",
    "for x in range(9):\n",
    "    ## TODO: use the my_cosine_similarity\n",
    "    print(\"     cosine({},query) = {}\".format(x,my_cosine_similarity(tfidf_matrix[x,:],tfidf_matrix[9,:])))"
   ]
  },
  {
   "cell_type": "code",
   "execution_count": 6,
   "metadata": {
    "scrolled": true
   },
   "outputs": [
    {
     "name": "stdout",
     "output_type": "stream",
     "text": [
      "The query vector is of len 48, which is the total number of different words in the documents\n",
      "The only non-zero similarity (with vector 7) comes from the fact that document 7 is the only one\n",
      " to have words in common with query. Actually it has 3 of them (Heaven, can, wait), which btw are\n",
      " all the words of the query.\n"
     ]
    }
   ],
   "source": [
    "print(\"The query vector is of len {}, which is the total number of different words in the documents\".format(len(tfidf_matrix[9,:])))\n",
    "print(\"\"\"The only non-zero similarity (with vector 7) comes from the fact that document 7 is the only one\n",
    " to have words in common with query. Actually it has 3 of them (Heaven, can, wait), which btw are\n",
    " all the words of the query.\"\"\")\n",
    "      "
   ]
  },
  {
   "cell_type": "code",
   "execution_count": null,
   "metadata": {},
   "outputs": [],
   "source": []
  }
 ],
 "metadata": {
  "kernelspec": {
   "display_name": "Python 3",
   "language": "python",
   "name": "python3"
  },
  "language_info": {
   "codemirror_mode": {
    "name": "ipython",
    "version": 3
   },
   "file_extension": ".py",
   "mimetype": "text/x-python",
   "name": "python",
   "nbconvert_exporter": "python",
   "pygments_lexer": "ipython3",
   "version": "3.6.5"
  }
 },
 "nbformat": 4,
 "nbformat_minor": 2
}
