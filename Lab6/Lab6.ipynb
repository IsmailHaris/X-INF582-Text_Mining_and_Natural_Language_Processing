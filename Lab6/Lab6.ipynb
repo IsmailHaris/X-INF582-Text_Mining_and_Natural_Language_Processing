{
 "cells": [
  {
   "cell_type": "markdown",
   "metadata": {},
   "source": [
    "# 1. Preliminary steps"
   ]
  },
  {
   "cell_type": "code",
   "execution_count": 1,
   "metadata": {},
   "outputs": [],
   "source": [
    "import nltk"
   ]
  },
  {
   "cell_type": "code",
   "execution_count": 2,
   "metadata": {},
   "outputs": [],
   "source": [
    "from nltk.corpus import state_union, inaugural"
   ]
  },
  {
   "cell_type": "markdown",
   "metadata": {},
   "source": [
    "To list all documents in a corpus, you can use the `fileids()` method:"
   ]
  },
  {
   "cell_type": "code",
   "execution_count": 3,
   "metadata": {},
   "outputs": [
    {
     "name": "stdout",
     "output_type": "stream",
     "text": [
      "['1789-Washington.txt', '1793-Washington.txt', '1797-Adams.txt', '1801-Jefferson.txt', '1805-Jefferson.txt', '1809-Madison.txt', '1813-Madison.txt', '1817-Monroe.txt', '1821-Monroe.txt', '1825-Adams.txt', '1829-Jackson.txt', '1833-Jackson.txt', '1837-VanBuren.txt', '1841-Harrison.txt', '1845-Polk.txt', '1849-Taylor.txt', '1853-Pierce.txt', '1857-Buchanan.txt', '1861-Lincoln.txt', '1865-Lincoln.txt', '1869-Grant.txt', '1873-Grant.txt', '1877-Hayes.txt', '1881-Garfield.txt', '1885-Cleveland.txt', '1889-Harrison.txt', '1893-Cleveland.txt', '1897-McKinley.txt', '1901-McKinley.txt', '1905-Roosevelt.txt', '1909-Taft.txt', '1913-Wilson.txt', '1917-Wilson.txt', '1921-Harding.txt', '1925-Coolidge.txt', '1929-Hoover.txt', '1933-Roosevelt.txt', '1937-Roosevelt.txt', '1941-Roosevelt.txt', '1945-Roosevelt.txt', '1949-Truman.txt', '1953-Eisenhower.txt', '1957-Eisenhower.txt', '1961-Kennedy.txt', '1965-Johnson.txt', '1969-Nixon.txt', '1973-Nixon.txt', '1977-Carter.txt', '1981-Reagan.txt', '1985-Reagan.txt', '1989-Bush.txt', '1993-Clinton.txt', '1997-Clinton.txt', '2001-Bush.txt', '2005-Bush.txt', '2009-Obama.txt']\n"
     ]
    }
   ],
   "source": [
    "print(inaugural.fileids())"
   ]
  },
  {
   "cell_type": "markdown",
   "metadata": {},
   "source": [
    "To access the content of a given document, you can use the `raw()`, `words()` and `sents()`methods as follows:"
   ]
  },
  {
   "cell_type": "code",
   "execution_count": 4,
   "metadata": {},
   "outputs": [
    {
     "name": "stdout",
     "output_type": "stream",
     "text": [
      "Fellow citizens, I am again called upon by the voice of my country to execute the functions of its Chief Magistrate. When the occasion proper for it shall arrive, I shall endeavor to express the high sense I entertain of this distinguished honor, and of the confidence which has been reposed in me by the people of united America.\n",
      "\n",
      "Previous to the execution of any official act of the President the Constitution requires an oath of office. This oath I am now about to take, and in your presence: That if it shall be found during my administration of the Government I have in any instance violated willingly or knowingly the injunctions thereof, I may (besides incurring constitutional punishment) be subject to the upbraidings of all who are now witnesses of the present solemn ceremony.\n",
      "\n",
      " \n",
      "\n",
      "['Fellow', 'citizens', ',', 'I', 'am', 'again', ...]\n",
      "[['Fellow', 'citizens', ',', 'I', 'am', 'again', 'called', 'upon', 'by', 'the', 'voice', 'of', 'my', 'country', 'to', 'execute', 'the', 'functions', 'of', 'its', 'Chief', 'Magistrate', '.'], ['When', 'the', 'occasion', 'proper', 'for', 'it', 'shall', 'arrive', ',', 'I', 'shall', 'endeavor', 'to', 'express', 'the', 'high', 'sense', 'I', 'entertain', 'of', 'this', 'distinguished', 'honor', ',', 'and', 'of', 'the', 'confidence', 'which', 'has', 'been', 'reposed', 'in', 'me', 'by', 'the', 'people', 'of', 'united', 'America', '.'], ...]\n"
     ]
    }
   ],
   "source": [
    "print(inaugural.raw('1793-Washington.txt'))\n",
    "print(inaugural.words('1793-Washington.txt'))\n",
    "print(inaugural.sents('1793-Washington.txt'))"
   ]
  },
  {
   "cell_type": "markdown",
   "metadata": {},
   "source": [
    "# 2. The lm module: basics"
   ]
  },
  {
   "cell_type": "code",
   "execution_count": 5,
   "metadata": {},
   "outputs": [],
   "source": [
    "from nltk.util import ngrams\n",
    "from nltk.lm import NgramCounter, Vocabulary"
   ]
  },
  {
   "cell_type": "markdown",
   "metadata": {},
   "source": [
    "Let’s count all unigrams in the `state_union` corpus:"
   ]
  },
  {
   "cell_type": "code",
   "execution_count": 6,
   "metadata": {},
   "outputs": [
    {
     "name": "stdout",
     "output_type": "stream",
     "text": [
      "399829\n"
     ]
    }
   ],
   "source": [
    "text_unigrams = [ngrams(sent, 1) for sent in state_union.sents()]\n",
    "ngram_counts = NgramCounter(text_unigrams)\n",
    "print(ngram_counts.N())"
   ]
  },
  {
   "cell_type": "markdown",
   "metadata": {},
   "source": [
    "You can look at the frequencies of a type in a very simple way:"
   ]
  },
  {
   "cell_type": "code",
   "execution_count": 7,
   "metadata": {},
   "outputs": [
    {
     "name": "stdout",
     "output_type": "stream",
     "text": [
      "19191\n",
      "0\n"
     ]
    }
   ],
   "source": [
    "print(ngram_counts['the']) # Unigrapm\n",
    "print(ngram_counts[['the']]['new']) # Bigram"
   ]
  },
  {
   "cell_type": "markdown",
   "metadata": {},
   "source": [
    "The “unigrams” member is a `FreqDist` object.\n",
    "Shows the 20 most frequent types. "
   ]
  },
  {
   "cell_type": "code",
   "execution_count": 8,
   "metadata": {},
   "outputs": [
    {
     "data": {
      "text/plain": [
       "<Figure size 640x480 with 1 Axes>"
      ]
     },
     "metadata": {},
     "output_type": "display_data"
    }
   ],
   "source": [
    "ngram_counts.unigrams.most_common(20)\n",
    "ngram_counts.unigrams.plot(20)"
   ]
  },
  {
   "cell_type": "markdown",
   "metadata": {},
   "source": [
    "Vocabulary objects allow to create a vocabulary from a set of types and a frequency threshold.\n",
    "The vocabulary will include all words that appear at least 2 times in the corpus."
   ]
  },
  {
   "cell_type": "code",
   "execution_count": 9,
   "metadata": {
    "scrolled": true
   },
   "outputs": [
    {
     "name": "stdout",
     "output_type": "stream",
     "text": [
      "9105\n"
     ]
    }
   ],
   "source": [
    "vocab = Vocabulary(state_union.words(), unk_cutoff=2)\n",
    "print(len(vocab))"
   ]
  },
  {
   "cell_type": "markdown",
   "metadata": {},
   "source": [
    "## Exercise 1"
   ]
  },
  {
   "cell_type": "code",
   "execution_count": 10,
   "metadata": {},
   "outputs": [],
   "source": [
    "import matplotlib.pyplot as plt\n",
    "import numpy as np"
   ]
  },
  {
   "cell_type": "code",
   "execution_count": 11,
   "metadata": {},
   "outputs": [],
   "source": [
    "def get_ngram_counts(processed_corpus, fileid):\n",
    "    text_unigrams = [ngrams(sent, 1) for sent in processed_corpus.sents(fileid)]\n",
    "    ngram_counts = NgramCounter(text_unigrams)\n",
    "    return ngram_counts.N()\n",
    "\n",
    "def get_vocab_counts(processed_corpus, fileid):\n",
    "    vocab = Vocabulary(processed_corpus.words(fileid), unk_cutoff=1)\n",
    "    return len(vocab)\n",
    "\n",
    "def get_results(processed_corpus, results_type):\n",
    "    results = []\n",
    "    if results_type == \"ngrams\":\n",
    "        my_function = get_ngram_counts\n",
    "    elif results_type == \"vocab\":\n",
    "        my_function = get_vocab_counts\n",
    "    else:\n",
    "        return None\n",
    "\n",
    "    for fileid in processed_corpus.fileids():\n",
    "        res = my_function(processed_corpus, fileid)\n",
    "        results.append((res, \"{} - {} | {}\".format(fileid[:4], fileid[5:-4], res)))\n",
    "\n",
    "    results = sorted(results, reverse=True)\n",
    "    results, presidents = map(list, zip(*results))\n",
    "\n",
    "    return presidents, results\n",
    "\n",
    "def plot_results(presidents, results):   \n",
    "    plt.rcParams['figure.figsize'] = [20, 6]\n",
    "    plt.bar(presidents, results)\n",
    "    plt.xticks(presidents, rotation='vertical')\n",
    "    plt.show()\n",
    "\n",
    "    print(\"Max: {:20s}\".format(presidents[0]))\n",
    "    print(\"Min: {:20s}\".format(presidents[-1]))\n",
    "\n",
    "def run_exo1(processed_corpus, results_type):\n",
    "    presidents, results = get_results(processed_corpus, results_type)\n",
    "    plot_results(presidents, results)"
   ]
  },
  {
   "cell_type": "code",
   "execution_count": 12,
   "metadata": {
    "scrolled": false
   },
   "outputs": [
    {
     "name": "stdout",
     "output_type": "stream",
     "text": [
      "\n",
      "\n",
      "Results for inaugural and ngrams\n"
     ]
    },
    {
     "data": {
      "image/png": "[encoded data removed]",
      "text/plain": [
       "<Figure size 1440x432 with 1 Axes>"
      ]
     },
     "metadata": {
      "needs_background": "light"
     },
     "output_type": "display_data"
    },
    {
     "name": "stdout",
     "output_type": "stream",
     "text": [
      "Max: 1841 - Harrison | 9165\n",
      "Min: 1793 - Washington | 147\n",
      "\n",
      "\n",
      "Results for inaugural and vocab\n"
     ]
    },
    {
     "data": {
      "image/png": "[encoded data removed]",
      "text/plain": [
       "<Figure size 1440x432 with 1 Axes>"
      ]
     },
     "metadata": {
      "needs_background": "light"
     },
     "output_type": "display_data"
    },
    {
     "name": "stdout",
     "output_type": "stream",
     "text": [
      "Max: 1841 - Harrison | 1894\n",
      "Min: 1793 - Washington | 97\n",
      "\n",
      "\n",
      "Results for state_union and ngrams\n"
     ]
    },
    {
     "data": {
      "image/png": "[encoded data removed]",
      "text/plain": [
       "<Figure size 1440x432 with 1 Axes>"
      ]
     },
     "metadata": {
      "needs_background": "light"
     },
     "output_type": "display_data"
    },
    {
     "name": "stdout",
     "output_type": "stream",
     "text": [
      "Max: 1946 - Truman | 30651\n",
      "Min: 1973 - Nixon | 1873 \n",
      "\n",
      "\n",
      "Results for state_union and vocab\n"
     ]
    },
    {
     "data": {
      "image/png": "[encoded data removed]",
      "text/plain": [
       "<Figure size 1440x432 with 1 Axes>"
      ]
     },
     "metadata": {
      "needs_background": "light"
     },
     "output_type": "display_data"
    },
    {
     "name": "stdout",
     "output_type": "stream",
     "text": [
      "Max: 1946 - Truman | 3780\n",
      "Min: 1963 - Johnson | 625\n"
     ]
    }
   ],
   "source": [
    "print(\"\\n\\nResults for inaugural and ngrams\")\n",
    "run_exo1(inaugural, \"ngrams\")\n",
    "\n",
    "print(\"\\n\\nResults for inaugural and vocab\")\n",
    "run_exo1(inaugural, \"vocab\")\n",
    "\n",
    "print(\"\\n\\nResults for state_union and ngrams\")\n",
    "run_exo1(state_union, \"ngrams\")\n",
    "\n",
    "print(\"\\n\\nResults for state_union and vocab\")\n",
    "run_exo1(state_union, \"vocab\")"
   ]
  },
  {
   "cell_type": "markdown",
   "metadata": {},
   "source": [
    "# 3. Building a Language Model"
   ]
  },
  {
   "cell_type": "code",
   "execution_count": 13,
   "metadata": {},
   "outputs": [],
   "source": [
    "from nltk.lm.preprocessing import pad_both_ends, flatten, padded_everygram_pipeline\n",
    "from nltk.util import bigrams, everygrams\n",
    "from nltk.lm import MLE"
   ]
  },
  {
   "cell_type": "markdown",
   "metadata": {},
   "source": [
    "Introduce padding to tell the model what the boundaries of the sentence.\n",
    "\n",
    "The module `lm` also need a flattened list of symbols to build the vocabulary"
   ]
  },
  {
   "cell_type": "code",
   "execution_count": 14,
   "metadata": {},
   "outputs": [
    {
     "name": "stdout",
     "output_type": "stream",
     "text": [
      "['<s>', 'My', 'super', 'sentence', 'to', 'test.', '</s>']\n",
      "[('<s>', 'My'), ('My', 'super'), ('super', 'sentence'), ('sentence', 'to'), ('to', 'test.'), ('test.', '</s>')]\n",
      "['<', 's', '>', 'M', 'y', 's', 'u', 'p', 'e', 'r', 's', 'e', 'n', 't', 'e', 'n', 'c', 'e', 't', 'o', 't', 'e', 's', 't', '.', '<', '/', 's', '>']\n"
     ]
    }
   ],
   "source": [
    "sentence = \"My super sentence to test.\".split()\n",
    "print(list(pad_both_ends(sentence, n=2)))\n",
    "print(list(bigrams(pad_both_ends(sentence, n=2))))\n",
    "print(list(flatten(pad_both_ends(sentence, n=2))))"
   ]
  },
  {
   "cell_type": "markdown",
   "metadata": {},
   "source": [
    "The method `padded_everygram_pipeline` produces the two at the same time and returns:\n",
    "- an iterator over text as ngrams\n",
    "- an iterator over text as vocabulary"
   ]
  },
  {
   "cell_type": "code",
   "execution_count": 15,
   "metadata": {},
   "outputs": [],
   "source": [
    "train, vocab = padded_everygram_pipeline(2, inaugural.sents())"
   ]
  },
  {
   "cell_type": "markdown",
   "metadata": {},
   "source": [
    "The following probabilities are not smoothed since we used a MLE model. For better results, models with smoothing are available:\n",
    "- `nltk.lm.Lidstone` (requires the gamma parameter to increase scores)\n",
    "- `nltk.lm.Laplace` (add 1)\n",
    "- `nltk.lm.KneserNeyInterpolate`"
   ]
  },
  {
   "cell_type": "code",
   "execution_count": 16,
   "metadata": {},
   "outputs": [],
   "source": [
    "my_lm = MLE(2)\n",
    "my_lm.fit(train, vocab)"
   ]
  },
  {
   "cell_type": "code",
   "execution_count": 17,
   "metadata": {},
   "outputs": [
    {
     "name": "stdout",
     "output_type": "stream",
     "text": [
      "192\n",
      "2\n",
      "0.05969602047970361\n",
      "0.0012349570016273132\n",
      "0.125\n"
     ]
    }
   ],
   "source": [
    "print(my_lm.counts['America'])\n",
    "print(my_lm.counts[['bless']]['America'])\n",
    "print(my_lm.score('the'))\n",
    "print(my_lm.score('America'))\n",
    "print(my_lm.score(\"America\", [\"bless\"]))"
   ]
  },
  {
   "cell_type": "markdown",
   "metadata": {},
   "source": [
    "## Exercise 2"
   ]
  },
  {
   "cell_type": "code",
   "execution_count": 18,
   "metadata": {},
   "outputs": [],
   "source": [
    "from nltk.lm import Lidstone, Laplace, KneserNeyInterpolated"
   ]
  },
  {
   "cell_type": "code",
   "execution_count": 19,
   "metadata": {},
   "outputs": [
    {
     "name": "stdout",
     "output_type": "stream",
     "text": [
      "1076\n",
      "12\n",
      "0.044047474230471735\n",
      "0.0024696515174815062\n",
      "0.3\n"
     ]
    }
   ],
   "source": [
    "train, vocab = padded_everygram_pipeline(2, state_union.sents())\n",
    "my_mle = MLE(2)\n",
    "my_mle.fit(train, vocab)\n",
    "print(my_mle.counts['America'])\n",
    "print(my_mle.counts[['bless']]['America'])\n",
    "print(my_mle.score('the'))\n",
    "print(my_mle.score('America'))\n",
    "print(my_mle.score(\"America\", [\"bless\"]))"
   ]
  },
  {
   "cell_type": "code",
   "execution_count": 20,
   "metadata": {},
   "outputs": [
    {
     "name": "stdout",
     "output_type": "stream",
     "text": [
      "1076\n",
      "12\n",
      "0.043900682629067815\n",
      "0.002461637143110081\n",
      "0.008071509572410112\n"
     ]
    }
   ],
   "source": [
    "train, vocab = padded_everygram_pipeline(2, state_union.sents())\n",
    "my_lidstone = Lidstone(order=2, gamma=0.1)\n",
    "my_lidstone.fit(train, vocab)\n",
    "print(my_lidstone.counts['America'])\n",
    "print(my_lidstone.counts[['bless']]['America'])\n",
    "print(my_lidstone.score('the'))\n",
    "print(my_lidstone.score('America'))\n",
    "print(my_lidstone.score(\"America\", [\"bless\"]))"
   ]
  },
  {
   "cell_type": "code",
   "execution_count": 21,
   "metadata": {},
   "outputs": [
    {
     "name": "stdout",
     "output_type": "stream",
     "text": [
      "1076\n",
      "12\n",
      "0.0426223683041663\n",
      "0.002391845074176068\n",
      "0.0008885243660720388\n"
     ]
    }
   ],
   "source": [
    "train, vocab = padded_everygram_pipeline(2, state_union.sents())\n",
    "my_laplace = Laplace(2)\n",
    "my_laplace.fit(train, vocab)\n",
    "print(my_laplace.counts['America'])\n",
    "print(my_laplace.counts[['bless']]['America'])\n",
    "print(my_laplace.score('the'))\n",
    "print(my_laplace.score('America'))\n",
    "print(my_laplace.score(\"America\", [\"bless\"]))"
   ]
  },
  {
   "cell_type": "code",
   "execution_count": 22,
   "metadata": {},
   "outputs": [
    {
     "name": "stdout",
     "output_type": "stream",
     "text": [
      "1076\n",
      "12\n",
      "6.853539853334247e-05\n",
      "6.853539853334247e-05\n",
      "0.29750137070797067\n"
     ]
    }
   ],
   "source": [
    "from nltk.lm import KneserNeyInterpolated\n",
    "train, vocab = padded_everygram_pipeline(2, state_union.sents())\n",
    "my_kneser = KneserNeyInterpolated(2)\n",
    "my_kneser.fit(train, vocab)\n",
    "print(my_kneser.counts['America'])\n",
    "print(my_kneser.counts[['bless']]['America'])\n",
    "print(my_kneser.score('the'))\n",
    "print(my_kneser.score('America'))\n",
    "print(my_kneser.score(\"America\", [\"bless\"]))"
   ]
  },
  {
   "cell_type": "markdown",
   "metadata": {},
   "source": [
    "# 4. Generation"
   ]
  },
  {
   "cell_type": "markdown",
   "metadata": {},
   "source": [
    "## Exercise 3"
   ]
  },
  {
   "cell_type": "code",
   "execution_count": 23,
   "metadata": {},
   "outputs": [
    {
     "name": "stdout",
     "output_type": "stream",
     "text": [
      "['<s>', 'Expenditures', 'for', 'the', 'rich', 'to', 'insure']\n",
      "['trade', 'without', 'those', 'without', 'putting', 'our', 'schools', 'damaged', 'in', 'Western']\n",
      "['produced', 'a', 'man', 'who', 'educate', 'themselves', '.', '</s>', 'special', 'accounts', 'that', 'has', 'become', 'computer', 'systems', ';', '30', 'billion', 'or', 'for', 'our', 'armed', 'forces', '.', '</s>', '.', '</s>', '.', '</s>', ',']\n"
     ]
    }
   ],
   "source": [
    "print(my_mle.generate(7))\n",
    "print(my_mle.generate(10))\n",
    "print(my_mle.generate(30))"
   ]
  },
  {
   "cell_type": "code",
   "execution_count": 24,
   "metadata": {},
   "outputs": [],
   "source": [
    "def clean_str(fieldid):\n",
    "    fieldid = fieldid[5:-3]\n",
    "    for char in list(range(10))+[\"-\",\".\"]:\n",
    "        fieldid = fieldid.replace(str(char),\"\")\n",
    "    return fieldid"
   ]
  },
  {
   "cell_type": "markdown",
   "metadata": {},
   "source": [
    "Merge the datasets to have the largest data as possible"
   ]
  },
  {
   "cell_type": "code",
   "execution_count": 25,
   "metadata": {},
   "outputs": [],
   "source": [
    "all_sentences_by_pres = dict()\n",
    "\n",
    "for fieldid in state_union.fileids():\n",
    "    pres = clean_str(fieldid)\n",
    "    if pres not in all_sentences_by_pres:\n",
    "        all_sentences_by_pres[pres] = state_union.sents(fieldid)\n",
    "    else:\n",
    "        all_sentences_by_pres[pres] += state_union.sents(fieldid)\n",
    "\n",
    "for fieldid in inaugural.fileids():\n",
    "    pres = clean_str(fieldid)\n",
    "    if pres not in all_sentences_by_pres:\n",
    "        all_sentences_by_pres[pres] = inaugural.sents(fieldid)\n",
    "    else:\n",
    "        all_sentences_by_pres[pres] += inaugural.sents(fieldid)"
   ]
  },
  {
   "cell_type": "code",
   "execution_count": 26,
   "metadata": {
    "scrolled": true
   },
   "outputs": [
    {
     "name": "stdout",
     "output_type": "stream",
     "text": [
      "Truman\n",
      "Eisenhower\n",
      "Kennedy\n",
      "Johnson\n",
      "Nixon\n",
      "Ford\n",
      "Carter\n",
      "Reagan\n",
      "Bush\n",
      "Clinton\n",
      "GWBush\n",
      "Washington\n",
      "Adams\n",
      "Jefferson\n",
      "Madison\n",
      "Monroe\n",
      "Jackson\n",
      "VanBuren\n",
      "Harrison\n",
      "Polk\n",
      "Taylor\n",
      "Pierce\n",
      "Buchanan\n",
      "Lincoln\n",
      "Grant\n",
      "Hayes\n",
      "Garfield\n",
      "Cleveland\n",
      "McKinley\n",
      "Roosevelt\n",
      "Taft\n",
      "Wilson\n",
      "Harding\n",
      "Coolidge\n",
      "Hoover\n",
      "Obama\n"
     ]
    }
   ],
   "source": [
    "models = dict()\n",
    "orders = [2,5]\n",
    "\n",
    "for pres, sents in all_sentences_by_pres.items():\n",
    "    models[pres] = dict()\n",
    "    print(pres)\n",
    "    for order in orders:\n",
    "        train, vocab = padded_everygram_pipeline(order, sents)\n",
    "        mle_model = MLE(order)\n",
    "        mle_model.fit(train, vocab)\n",
    "        models[pres][order] = mle_model"
   ]
  },
  {
   "cell_type": "code",
   "execution_count": 27,
   "metadata": {
    "scrolled": true
   },
   "outputs": [
    {
     "name": "stdout",
     "output_type": "stream",
     "text": [
      "Truman     | 2 | , businesses . </s> in our entire tax reduction measure of land . </s> <s>\n",
      "Truman     | 5 | an early date . </s> </s> </s> </s> </s> </s> </s> </s> </s> </s> </s>\n",
      "\n",
      "\n",
      "Eisenhower | 2 | -- by the strategic change and spirit , admittedly still burns within the earth and\n",
      "Eisenhower | 5 | confidence of people all over the world who are weary of tensions and armaments .\n",
      "\n",
      "\n",
      "Kennedy    | 2 | give the path to new appropriations for tax levels . </s> skills over the State\n",
      "Kennedy    | 5 | </s> </s> </s> </s> </s> </s> </s> </s> </s> </s> </s> </s> </s> </s> </s>\n",
      "\n",
      "\n",
      "Johnson    | 2 | , I felt -- and men dying in many nations to Vietnam , rather because\n",
      "Johnson    | 5 | have dropped no bombs in North Vietnam . </s> </s> </s> </s> </s> </s> </s>\n",
      "\n",
      "\n",
      "Nixon      | 2 | promote better angels of opinion , but more fairly in this occasion that will deliver\n",
      "Nixon      | 5 | back to the peopleĄXin which government at all levels . </s> </s> </s> </s> </s>\n",
      "\n",
      "\n",
      "Ford       | 2 | and to all levels in Federal dollar mark . </s> in the Union is enacted\n",
      "Ford       | 5 | </s> </s> </s> </s> </s> </s> </s> </s> </s> </s> </s> </s> </s> </s> </s>\n",
      "\n",
      "\n",
      "Carter     | 2 | at home , you to improving our Nation still remains unrealized . </s> -- of\n",
      "Carter     | 5 | My budget for 1979 addresses these national needs , but it is lean and tight\n",
      "\n",
      "\n",
      "Reagan     | 2 | not naivete or barbed wire to be simply the spider ' t paying public housing\n",
      "Reagan     | 5 | people -- to charitable but realistic consideration of the terrible cost of abortion on demand\n",
      "\n",
      "\n",
      "Bush       | 2 | year -- the Federal Government spending debates will happen again because the best , it\n",
      "Bush       | 5 | our human capital -- the talented work force that we ' ll need to compete\n",
      "\n",
      "\n",
      "Clinton    | 2 | The threats of natural treasures in this new progress , the membership for up ;\n",
      "Clinton    | 5 | predecessor , President Bush , for his half - century of service to America and\n",
      "\n",
      "\n",
      "GWBush     | 2 | reform and grandchildren . </s> , hopeful new President and stock dividends . </s> insurance\n",
      "GWBush     | 5 | </s> </s> </s> </s> </s> </s> </s> </s> </s> </s> </s> </s> </s> </s> </s>\n",
      "\n",
      "\n",
      "Washington | 2 | enlarged views nor party animosities , repaired to your sentiments as he shall be peculiarly\n",
      "Washington | 5 | being sufficient to awaken in the wisest and most experienced of her citizens a distrustful\n",
      "\n",
      "\n",
      "Adams      | 2 | till the sentiments and prepossessions which gives inestimable value to lay myself under any nation\n",
      "Adams      | 5 | high and solemn trust imposed upon me in this station . </s> </s> </s> </s>\n",
      "\n",
      "\n",
      "Jefferson  | 2 | them justice , which the exercise their country committed to all its dispensations proves that\n",
      "Jefferson  | 5 | man from his own industry or that of his father ' s . </s> </s>\n",
      "\n",
      "\n",
      "Madison    | 2 | the nation , they have been the war with all nations ; until it .\n",
      "Madison    | 5 | , we can reflect with a proud satisfaction that in carrying it on no principle\n",
      "\n",
      "\n",
      "Monroe     | 2 | do it has been defrayed without a period fraught with which it to remain so\n",
      "Monroe     | 5 | separate spheres , by a wise partition of power , a just proportion of the\n",
      "\n",
      "\n",
      "Jackson    | 2 | agriculture , therefore , but too apt to foster with blood the rights of all\n",
      "Jackson    | 5 | </s> </s> </s> </s> </s> </s> </s> </s> </s> </s> </s> </s> </s> </s> </s>\n",
      "\n",
      "\n",
      "VanBuren   | 2 | ; yet to sustain our people the lights of future safety imparted by a people\n",
      "VanBuren   | 5 | lost upon us if we are content to trust alone to the peculiar advantages we\n",
      "\n",
      "\n",
      "Harrison   | 2 | wealth , in the Dakotas and example of our great department upon the people has\n",
      "Harrison   | 5 | the nation at large , but much more to those who use this pernicious expedient\n",
      "\n",
      "\n",
      "Polk       | 2 | the people of every part of the offspring of superior quality and of the thought\n",
      "Polk       | 5 | <s> <s> <s> <s> These objections were earnestly urged when we acquired Louisiana . </s>\n",
      "\n",
      "\n",
      "Taylor     | 2 | the military and let us from small beginnings to provide for the oath prescribed by\n",
      "Taylor     | 5 | can now arise which a government confident in its own strength and resolved to protect\n",
      "\n",
      "\n",
      "Pierce     | 2 | were not be limitless as a calm and here . </s> had my countrymen need\n",
      "Pierce     | 5 | to be found in the fact that the actual working of our system has dispelled\n",
      "\n",
      "\n",
      "Buchanan   | 2 | Congress has more than our domestic slavery into comparative injuries which it was considered at\n",
      "Buchanan   | 5 | <s> <s> I forbear for the present from expressing an opinion as to the wisest\n",
      "\n",
      "\n",
      "Lincoln    | 2 | which in which authority ? </s> believes slavery in fact , is all his hands\n",
      "Lincoln    | 5 | , but which , having continued through His appointed time , He now wills to\n",
      "\n",
      "\n",
      "Grant      | 2 | be added a respite since the subject to govern all subjects have them according to\n",
      "Grant      | 5 | <s> On all leading questions agitating the public mind I will always express my views\n",
      "\n",
      "\n",
      "Hayes      | 2 | , the Government , I should owe their whole country . </s> and heartily to\n",
      "Hayes      | 5 | history of the country it has been deemed best , in view of the peculiar\n",
      "\n",
      "\n",
      "Garfield   | 2 | of a monetary system . </s> financial questions have been strengthened the Constitution our people\n",
      "Garfield   | 5 | the blessings that gather around the homes of the industrious poor . </s> </s> </s>\n",
      "\n",
      "\n",
      "Cleveland  | 2 | . </s> sphere , that my lot to secure the prosperity and by the labor\n",
      "Cleveland  | 5 | should patriotically and cheerfully support their Government its functions do not include the support of\n",
      "\n",
      "\n",
      "McKinley   | 2 | himself . </s> be settled policy , but that their love for my constant for\n",
      "McKinley   | 5 | of ours will we assign to ourselves a subordinate rank in the family of nations\n",
      "\n",
      "\n",
      "Roosevelt  | 2 | forefathers conquered because they have become a fixed determination to wipe out of power for\n",
      "Roosevelt  | 5 | facts . </s> </s> </s> </s> </s> </s> </s> </s> </s> </s> </s> </s> </s>\n",
      "\n",
      "\n",
      "Taft       | 2 | make the perfecting of laws for them to its employ of both negroes has met\n",
      "Taft       | 5 | the slightest danger to the Republic or the cause of free institutions , and fear\n",
      "\n",
      "\n",
      "Wilson     | 2 | The scales of action will be put into and vital . </s> hands of your\n",
      "Wilson     | 5 | own plans and point of view . </s> </s> </s> </s> </s> </s> </s> </s>\n",
      "\n",
      "\n",
      "Harding    | 2 | . </s> today our resources and differing degrees of all civilization can survive repudiation .\n",
      "Harding    | 5 | statute enacted by man can repeal the inexorable laws of nature . </s> </s> </s>\n",
      "\n",
      "\n",
      "Coolidge   | 2 | . </s> to inflict it . </s> and tireless vigilance for the secondary and peace\n",
      "Coolidge   | 5 | <s> <s> <s> <s> In conformity with the principle that a display of reason rather\n",
      "\n",
      "\n",
      "Hoover     | 2 | form of other parts of the eighteenth amendment . </s> It is public education is\n",
      "Hoover     | 5 | to the major purpose of the court . </s> </s> </s> </s> </s> </s> </s>\n",
      "\n",
      "\n",
      "Obama      | 2 | soil to unclench your people will define a new era of remaking America -- whether\n",
      "Obama      | 5 | sweatshops and settled the West ; endured the lash of the whip and plowed the\n",
      "\n",
      "\n"
     ]
    }
   ],
   "source": [
    "for pres, value in models.items():\n",
    "    for order in orders:\n",
    "        print(\"{:10s} | {} | {}\".format(pres, order, ' '.join(list(value[order].generate(15)))))\n",
    "    print(\"\\n\")"
   ]
  },
  {
   "cell_type": "markdown",
   "metadata": {},
   "source": [
    "## Exercise 4"
   ]
  },
  {
   "cell_type": "code",
   "execution_count": 28,
   "metadata": {},
   "outputs": [],
   "source": [
    "# Use Plaidml backend on MacBook Pro AMD\n",
    "#import os\n",
    "#os.environ[\"KERAS_BACKEND\"] = \"plaidml.keras.backend\""
   ]
  },
  {
   "cell_type": "code",
   "execution_count": 29,
   "metadata": {},
   "outputs": [
    {
     "name": "stderr",
     "output_type": "stream",
     "text": [
      "Using TensorFlow backend.\n"
     ]
    }
   ],
   "source": [
    "from keras.preprocessing.sequence import pad_sequences\n",
    "from keras.layers import Embedding, LSTM, Dense, Dropout\n",
    "from keras.preprocessing.text import Tokenizer\n",
    "from keras.callbacks import EarlyStopping\n",
    "from keras.models import Sequential\n",
    "import keras.utils as ku"
   ]
  },
  {
   "cell_type": "code",
   "execution_count": 30,
   "metadata": {},
   "outputs": [],
   "source": [
    "tokenizer = Tokenizer()\n",
    "\n",
    "def dataset_preparation(data):\n",
    "    corpus = data.lower().split(\"\\n\")\n",
    "    tokenizer.fit_on_texts(corpus)\n",
    "    total_words = len(tokenizer.word_index) + 1\n",
    "    input_sequences = []\n",
    "    for line in corpus:\n",
    "        token_list = tokenizer.texts_to_sequences([line])[0]\n",
    "        for i in range(1, len(token_list)):\n",
    "            n_gram_sequence = token_list[:i+1]\n",
    "            input_sequences.append(n_gram_sequence)\n",
    "\n",
    "    max_sequence_len = max([len(x) for x in input_sequences])\n",
    "    input_sequences = np.array(pad_sequences(input_sequences, maxlen=max_sequence_len, padding='pre'))\n",
    "\n",
    "    predictors, label = input_sequences[:,:-1],input_sequences[:,-1]\n",
    "    label = ku.to_categorical(label, num_classes=total_words)\n",
    "    return predictors, label, max_sequence_len, total_words\n",
    "\n",
    "def create_model(predictors, label, max_sequence_len, total_words):\n",
    "    input_len = max_sequence_len - 1\n",
    "    model = Sequential()\n",
    "    model.add(Embedding(total_words, 10, input_length=input_len)) #Input Layer : Takes the sequence of words as input\n",
    "    model.add(LSTM(150)) #LSTM Layer : Computes the output using LSTM units. I have added 100 units in the layer, but this number can be fine tuned later.\n",
    "    model.add(Dropout(0.1)) #Dropout Layer : A regularisation layer which randomly turns-off the activations of some neurons in the LSTM layer. It helps in preventing over fitting.\n",
    "    model.add(Dense(total_words, activation='softmax')) #Output Layer : Computes the probability of the best possible next word as output\n",
    "    model.compile(loss='categorical_crossentropy', optimizer='adam')\n",
    "    model.fit(predictors, label, epochs=100, verbose=1)\n",
    "    return model\n",
    "\n",
    "def generate_text(seed_text, next_words, max_sequence_len, model):\n",
    "    for j in range(next_words):\n",
    "        token_list = tokenizer.texts_to_sequences([seed_text])[0]\n",
    "        token_list = pad_sequences([token_list], maxlen=\n",
    "                             max_sequence_len-1, padding='pre')\n",
    "        predicted = model.predict_classes(token_list, verbose=0)\n",
    "\n",
    "        output_word = \"\"\n",
    "        for word, index in tokenizer.word_index.items():\n",
    "            if index == predicted:\n",
    "                output_word = word\n",
    "                break\n",
    "        seed_text += \" \" + output_word\n",
    "    return seed_text"
   ]
  },
  {
   "cell_type": "code",
   "execution_count": 32,
   "metadata": {},
   "outputs": [],
   "source": [
    "all_raw_by_pres = dict()\n",
    "\n",
    "for fieldid in state_union.fileids():\n",
    "    pres = clean_str(fieldid)\n",
    "    if pres not in all_raw_by_pres:\n",
    "        all_raw_by_pres[pres] = state_union.raw(fieldid)\n",
    "    else:\n",
    "        all_raw_by_pres[pres] += state_union.raw(fieldid)\n",
    "\n",
    "for fieldid in inaugural.fileids():\n",
    "    pres = clean_str(fieldid)\n",
    "    if pres not in all_raw_by_pres:\n",
    "        all_raw_by_pres[pres] = inaugural.raw(fieldid)\n",
    "    else:\n",
    "        all_raw_by_pres[pres] += inaugural.raw(fieldid)\n",
    "\n",
    "all_raw = state_union.raw() + inaugural.raw()"
   ]
  },
  {
   "cell_type": "code",
   "execution_count": null,
   "metadata": {
    "scrolled": false
   },
   "outputs": [],
   "source": [
    "X, Y, msl, total_words = dataset_preparation(all_raw)\n",
    "model = create_model(X, Y, msl, total_words)"
   ]
  },
  {
   "cell_type": "code",
   "execution_count": 33,
   "metadata": {
    "scrolled": true
   },
   "outputs": [
    {
     "name": "stdout",
     "output_type": "stream",
     "text": [
      "Epoch 1/100\n",
      "2363/2363 [==============================] - 9s 4ms/step - loss: 6.3374\n",
      "Epoch 2/100\n",
      "2363/2363 [==============================] - 8s 3ms/step - loss: 5.8820\n",
      "Epoch 3/100\n",
      "2363/2363 [==============================] - 8s 3ms/step - loss: 5.8168\n",
      "Epoch 4/100\n",
      "2363/2363 [==============================] - 8s 4ms/step - loss: 5.7465\n",
      "Epoch 5/100\n",
      "2363/2363 [==============================] - 8s 4ms/step - loss: 5.6724\n",
      "Epoch 6/100\n",
      "2363/2363 [==============================] - 9s 4ms/step - loss: 5.6046\n",
      "Epoch 7/100\n",
      "2363/2363 [==============================] - 9s 4ms/step - loss: 5.5388\n",
      "Epoch 8/100\n",
      "2363/2363 [==============================] - 9s 4ms/step - loss: 5.4518\n",
      "Epoch 9/100\n",
      "2363/2363 [==============================] - 8s 4ms/step - loss: 5.3749\n",
      "Epoch 10/100\n",
      "2363/2363 [==============================] - 9s 4ms/step - loss: 5.2869\n",
      "Epoch 11/100\n",
      "2363/2363 [==============================] - 9s 4ms/step - loss: 5.4607\n",
      "Epoch 12/100\n",
      "2363/2363 [==============================] - 9s 4ms/step - loss: 5.2210\n",
      "Epoch 13/100\n",
      "2363/2363 [==============================] - 9s 4ms/step - loss: 5.1248\n",
      "Epoch 14/100\n",
      "2363/2363 [==============================] - 9s 4ms/step - loss: 5.0541\n",
      "Epoch 15/100\n",
      "2363/2363 [==============================] - 9s 4ms/step - loss: 4.9994\n",
      "Epoch 16/100\n",
      "2363/2363 [==============================] - 8s 4ms/step - loss: 4.9492\n",
      "Epoch 17/100\n",
      "2363/2363 [==============================] - 8s 4ms/step - loss: 4.9009\n",
      "Epoch 18/100\n",
      "2363/2363 [==============================] - 9s 4ms/step - loss: 4.8514\n",
      "Epoch 19/100\n",
      "2363/2363 [==============================] - 9s 4ms/step - loss: 4.8110\n",
      "Epoch 20/100\n",
      "2363/2363 [==============================] - 8s 3ms/step - loss: 4.7649\n",
      "Epoch 21/100\n",
      "2363/2363 [==============================] - 8s 4ms/step - loss: 4.7141\n",
      "Epoch 22/100\n",
      "2363/2363 [==============================] - 9s 4ms/step - loss: 4.6691\n",
      "Epoch 23/100\n",
      "2363/2363 [==============================] - 8s 3ms/step - loss: 4.6259\n",
      "Epoch 24/100\n",
      "2363/2363 [==============================] - 9s 4ms/step - loss: 4.5772\n",
      "Epoch 25/100\n",
      "2363/2363 [==============================] - 9s 4ms/step - loss: 4.5344\n",
      "Epoch 26/100\n",
      "2363/2363 [==============================] - 9s 4ms/step - loss: 4.4831\n",
      "Epoch 27/100\n",
      "2363/2363 [==============================] - 8s 4ms/step - loss: 4.4189\n",
      "Epoch 28/100\n",
      "2363/2363 [==============================] - 9s 4ms/step - loss: 4.3745\n",
      "Epoch 29/100\n",
      "2363/2363 [==============================] - 9s 4ms/step - loss: 4.3232\n",
      "Epoch 30/100\n",
      "2363/2363 [==============================] - 8s 4ms/step - loss: 4.2771\n",
      "Epoch 31/100\n",
      "2363/2363 [==============================] - 9s 4ms/step - loss: 4.2198\n",
      "Epoch 32/100\n",
      "2363/2363 [==============================] - 8s 4ms/step - loss: 4.1616\n",
      "Epoch 33/100\n",
      "2363/2363 [==============================] - 8s 4ms/step - loss: 4.1128\n",
      "Epoch 34/100\n",
      "2363/2363 [==============================] - 8s 4ms/step - loss: 4.0615\n",
      "Epoch 35/100\n",
      "2363/2363 [==============================] - 9s 4ms/step - loss: 4.0089\n",
      "Epoch 36/100\n",
      "2363/2363 [==============================] - 9s 4ms/step - loss: 3.9476\n",
      "Epoch 37/100\n",
      "2363/2363 [==============================] - 8s 4ms/step - loss: 3.9042\n",
      "Epoch 38/100\n",
      "2363/2363 [==============================] - 9s 4ms/step - loss: 3.8466\n",
      "Epoch 39/100\n",
      "2363/2363 [==============================] - 9s 4ms/step - loss: 3.7920\n",
      "Epoch 40/100\n",
      "2363/2363 [==============================] - 9s 4ms/step - loss: 3.7385\n",
      "Epoch 41/100\n",
      "2363/2363 [==============================] - 8s 4ms/step - loss: 3.6747\n",
      "Epoch 42/100\n",
      "2363/2363 [==============================] - 9s 4ms/step - loss: 3.6223\n",
      "Epoch 43/100\n",
      "2363/2363 [==============================] - 9s 4ms/step - loss: 3.5677\n",
      "Epoch 44/100\n",
      "2363/2363 [==============================] - 9s 4ms/step - loss: 3.5169\n",
      "Epoch 45/100\n",
      "2363/2363 [==============================] - 9s 4ms/step - loss: 3.4578\n",
      "Epoch 46/100\n",
      "2363/2363 [==============================] - 9s 4ms/step - loss: 3.4023\n",
      "Epoch 47/100\n",
      "2363/2363 [==============================] - 9s 4ms/step - loss: 3.3521\n",
      "Epoch 48/100\n",
      "2363/2363 [==============================] - 8s 3ms/step - loss: 3.3005\n",
      "Epoch 49/100\n",
      "2363/2363 [==============================] - 8s 4ms/step - loss: 3.2284\n",
      "Epoch 50/100\n",
      "2363/2363 [==============================] - 8s 4ms/step - loss: 3.1804\n",
      "Epoch 51/100\n",
      "2363/2363 [==============================] - 8s 4ms/step - loss: 3.1297\n",
      "Epoch 52/100\n",
      "2363/2363 [==============================] - 8s 4ms/step - loss: 3.0772\n",
      "Epoch 53/100\n",
      "2363/2363 [==============================] - 8s 3ms/step - loss: 3.0265\n",
      "Epoch 54/100\n",
      "2363/2363 [==============================] - 8s 4ms/step - loss: 2.9765\n",
      "Epoch 55/100\n",
      "2363/2363 [==============================] - 8s 3ms/step - loss: 2.9398\n",
      "Epoch 56/100\n",
      "2363/2363 [==============================] - 9s 4ms/step - loss: 2.8863\n",
      "Epoch 57/100\n",
      "2363/2363 [==============================] - 9s 4ms/step - loss: 2.8170\n",
      "Epoch 58/100\n",
      "2363/2363 [==============================] - 9s 4ms/step - loss: 2.7510\n",
      "Epoch 59/100\n",
      "2363/2363 [==============================] - 10s 4ms/step - loss: 2.7068\n",
      "Epoch 60/100\n",
      "2363/2363 [==============================] - 9s 4ms/step - loss: 2.6657\n",
      "Epoch 61/100\n",
      "2363/2363 [==============================] - 8s 4ms/step - loss: 2.6011\n",
      "Epoch 62/100\n",
      "2363/2363 [==============================] - 9s 4ms/step - loss: 2.5535\n",
      "Epoch 63/100\n",
      "2363/2363 [==============================] - 9s 4ms/step - loss: 2.5110\n",
      "Epoch 64/100\n",
      "2363/2363 [==============================] - 8s 4ms/step - loss: 2.4756\n",
      "Epoch 65/100\n",
      "2363/2363 [==============================] - 9s 4ms/step - loss: 2.4240\n",
      "Epoch 66/100\n",
      "2363/2363 [==============================] - 9s 4ms/step - loss: 2.3619\n",
      "Epoch 67/100\n",
      "2363/2363 [==============================] - 9s 4ms/step - loss: 2.3371\n",
      "Epoch 68/100\n",
      "2363/2363 [==============================] - 8s 4ms/step - loss: 2.2826\n",
      "Epoch 69/100\n",
      "2363/2363 [==============================] - 9s 4ms/step - loss: 2.2507\n",
      "Epoch 70/100\n",
      "2363/2363 [==============================] - 9s 4ms/step - loss: 2.2082\n",
      "Epoch 71/100\n",
      "2363/2363 [==============================] - 9s 4ms/step - loss: 2.1616\n",
      "Epoch 72/100\n",
      "2363/2363 [==============================] - 9s 4ms/step - loss: 2.1163\n",
      "Epoch 73/100\n",
      "2363/2363 [==============================] - 9s 4ms/step - loss: 2.0747\n",
      "Epoch 74/100\n",
      "2363/2363 [==============================] - 8s 4ms/step - loss: 2.0241\n",
      "Epoch 75/100\n",
      "2363/2363 [==============================] - 9s 4ms/step - loss: 2.0119\n",
      "Epoch 76/100\n",
      "2363/2363 [==============================] - 8s 3ms/step - loss: 1.9575\n",
      "Epoch 77/100\n",
      "2363/2363 [==============================] - 8s 4ms/step - loss: 1.9140\n",
      "Epoch 78/100\n",
      "2363/2363 [==============================] - 8s 4ms/step - loss: 1.8977\n",
      "Epoch 79/100\n",
      "2363/2363 [==============================] - 9s 4ms/step - loss: 1.8457\n",
      "Epoch 80/100\n",
      "2363/2363 [==============================] - 9s 4ms/step - loss: 1.8123\n",
      "Epoch 81/100\n",
      "2363/2363 [==============================] - 8s 4ms/step - loss: 1.7783\n",
      "Epoch 82/100\n",
      "2363/2363 [==============================] - 9s 4ms/step - loss: 1.7307\n",
      "Epoch 83/100\n",
      "2363/2363 [==============================] - 9s 4ms/step - loss: 1.7102\n",
      "Epoch 84/100\n",
      "2363/2363 [==============================] - 9s 4ms/step - loss: 1.6702\n",
      "Epoch 85/100\n",
      "2363/2363 [==============================] - 9s 4ms/step - loss: 1.6355\n",
      "Epoch 86/100\n",
      "2363/2363 [==============================] - 9s 4ms/step - loss: 1.6197\n",
      "Epoch 87/100\n",
      "2363/2363 [==============================] - 8s 4ms/step - loss: 1.5754\n",
      "Epoch 88/100\n",
      "2363/2363 [==============================] - 8s 4ms/step - loss: 1.5563\n",
      "Epoch 89/100\n",
      "2363/2363 [==============================] - 8s 3ms/step - loss: 1.5252\n",
      "Epoch 90/100\n",
      "2363/2363 [==============================] - 8s 4ms/step - loss: 1.4892\n",
      "Epoch 91/100\n",
      "2363/2363 [==============================] - 9s 4ms/step - loss: 1.4729\n",
      "Epoch 92/100\n",
      "2363/2363 [==============================] - 8s 3ms/step - loss: 1.4374\n",
      "Epoch 93/100\n",
      "2363/2363 [==============================] - 8s 4ms/step - loss: 1.3866\n",
      "Epoch 94/100\n",
      "2363/2363 [==============================] - 8s 3ms/step - loss: 1.3740\n",
      "Epoch 95/100\n",
      "2363/2363 [==============================] - 8s 3ms/step - loss: 1.3471\n",
      "Epoch 96/100\n",
      "2363/2363 [==============================] - 9s 4ms/step - loss: 1.3222\n",
      "Epoch 97/100\n",
      "2363/2363 [==============================] - 8s 4ms/step - loss: 1.3074\n",
      "Epoch 98/100\n",
      "2363/2363 [==============================] - 8s 4ms/step - loss: 1.2665\n",
      "Epoch 99/100\n",
      "2363/2363 [==============================] - 8s 3ms/step - loss: 1.2483\n",
      "Epoch 100/100\n",
      "2363/2363 [==============================] - 8s 3ms/step - loss: 1.2303\n"
     ]
    }
   ],
   "source": [
    "X, Y, msl, total_words = dataset_preparation(all_raw_by_pres[\"Obama\"])\n",
    "model_obama = create_model(X, Y, msl, total_words)"
   ]
  },
  {
   "cell_type": "code",
   "execution_count": 34,
   "metadata": {},
   "outputs": [
    {
     "ename": "SyntaxError",
     "evalue": "invalid syntax (<ipython-input-34-a30ff5168686>, line 2)",
     "output_type": "error",
     "traceback": [
      "\u001b[0;36m  File \u001b[0;32m\"<ipython-input-34-a30ff5168686>\"\u001b[0;36m, line \u001b[0;32m2\u001b[0m\n\u001b[0;31m    for in in range(10):\u001b[0m\n\u001b[0m         ^\u001b[0m\n\u001b[0;31mSyntaxError\u001b[0m\u001b[0;31m:\u001b[0m invalid syntax\n"
     ]
    }
   ],
   "source": [
    "print(\"For all presidents\\n\")\n",
    "for i in range(10):\n",
    "    print(generate_text(\"The best\", 15, msl, model))\n",
    "print(\"\\n\\nFor B. Obama\\n\")\n",
    "print(generate_text(\"The best\", 15, msl, model))\n",
    "print(generate_text(\"I am\", 15, msl, model))\n",
    "print(generate_text(\"The country\", 15, msl, model))\n",
    "print(generate_text(\"France\", 15, msl, model))\n",
    "print(generate_text(\"Most people\", 15, msl, model))\n",
    "print(generate_text(\"Our ennemies\", 15, msl, model))\n",
    "print(generate_text(\"My fellow comrades\", 15, msl, model))\n",
    "print(generate_text(\"Apple is\", 15, msl, model))\n",
    "print(generate_text(\"Yes we\", 15, msl, model))\n",
    "print(generate_text(\"His parents\", 15, msl, model))"
   ]
  },
  {
   "cell_type": "code",
   "execution_count": 41,
   "metadata": {},
   "outputs": [
    {
     "name": "stdout",
     "output_type": "stream",
     "text": [
      "\n",
      "\n",
      "For B. Obama\n",
      "\n",
      "The best keepers of our liberty and understand but greatness are will end to brave once more\n",
      "I am challenges is the horizon of our liberty and understand but greatness are will end to\n",
      "The country world our nation in the coldest of months a small band of patriots huddled by\n",
      "France the keepers of our liberty and understand but greatness are will end to brave once\n",
      "Most people the price of our common dangers in the knowledge of workers across our power cannot\n",
      "Our ennemies challenges may be new the instruments of our safety and good for the next alarmed\n",
      "My fellow comrades citizens continue today we remain the most prosperous powerful nation on the coldest of months\n",
      "Apple is the muslim world of our common dangers can have spoken during band of prosperity of\n",
      "Yes we day is the fallen world between our common dangers with we spoken during rising tides\n",
      "His parents four americans have today taken the presidential oath the words have been spoken during rising\n"
     ]
    }
   ],
   "source": [
    "print(\"\\n\\nFor B. Obama\\n\")\n",
    "print(generate_text(\"The best\", 15, msl, model_obama))\n",
    "print(generate_text(\"I am\", 15, msl, model_obama))\n",
    "print(generate_text(\"The country\", 15, msl, model_obama))\n",
    "print(generate_text(\"France\", 15, msl, model_obama))\n",
    "print(generate_text(\"Most people\", 15, msl, model_obama))\n",
    "print(generate_text(\"Our ennemies\", 15, msl, model_obama))\n",
    "print(generate_text(\"My fellow comrades\", 15, msl, model_obama))\n",
    "print(generate_text(\"Apple is\", 15, msl, model_obama))\n",
    "print(generate_text(\"Yes we\", 15, msl, model_obama))\n",
    "print(generate_text(\"His parents\", 15, msl, model_obama))"
   ]
  },
  {
   "cell_type": "markdown",
   "metadata": {},
   "source": [
    "# Authorship attribution"
   ]
  },
  {
   "cell_type": "markdown",
   "metadata": {},
   "source": [
    "## Exercise 5"
   ]
  },
  {
   "cell_type": "markdown",
   "metadata": {},
   "source": [
    "## Question 5a"
   ]
  },
  {
   "cell_type": "code",
   "execution_count": 30,
   "metadata": {},
   "outputs": [],
   "source": [
    "from tqdm import tqdm_notebook as tqdm\n",
    "from scipy.stats import entropy"
   ]
  },
  {
   "cell_type": "code",
   "execution_count": 26,
   "metadata": {},
   "outputs": [],
   "source": [
    "all_sentences_by_pres_state_union = dict()\n",
    "\n",
    "for fieldid in state_union.fileids():\n",
    "    pres = clean_str(fieldid)\n",
    "    if pres not in all_sentences_by_pres_state_union:\n",
    "        all_sentences_by_pres_state_union[pres] = state_union.sents(fieldid)\n",
    "    else:\n",
    "        all_sentences_by_pres_state_union[pres] += state_union.sents(fieldid)"
   ]
  },
  {
   "cell_type": "code",
   "execution_count": 27,
   "metadata": {},
   "outputs": [
    {
     "name": "stdout",
     "output_type": "stream",
     "text": [
      "Truman\n",
      "Eisenhower\n",
      "Kennedy\n",
      "Johnson\n",
      "Nixon\n",
      "Ford\n",
      "Carter\n",
      "Reagan\n",
      "Bush\n",
      "Clinton\n",
      "GWBush\n"
     ]
    }
   ],
   "source": [
    "models = dict()\n",
    "orders = [1,2,3]\n",
    "\n",
    "for pres, sents in all_sentences_by_pres_state_union.items():\n",
    "    models[pres] = dict()\n",
    "    print(pres)\n",
    "    for order in orders:\n",
    "        train, vocab = padded_everygram_pipeline(order, sents)\n",
    "        laplace_model = Laplace(order)\n",
    "        laplace_model.fit(train, vocab)\n",
    "        models[pres][order] = laplace_model"
   ]
  },
  {
   "cell_type": "code",
   "execution_count": 29,
   "metadata": {},
   "outputs": [
    {
     "name": "stdout",
     "output_type": "stream",
     "text": [
      "Truman\n"
     ]
    },
    {
     "data": {
      "application/vnd.jupyter.widget-view+json": {
       "model_id": "47d26d6c5c274f82968a9d08daa9940c",
       "version_major": 2,
       "version_minor": 0
      },
      "text/plain": [
       "HBox(children=(IntProgress(value=0, max=5011), HTML(value='')))"
      ]
     },
     "metadata": {},
     "output_type": "display_data"
    },
    {
     "name": "stdout",
     "output_type": "stream",
     "text": [
      "\n",
      "Eisenhower\n"
     ]
    },
    {
     "data": {
      "application/vnd.jupyter.widget-view+json": {
       "model_id": "6f9213be68674e15af3a0e8efa7e071f",
       "version_major": 2,
       "version_minor": 0
      },
      "text/plain": [
       "HBox(children=(IntProgress(value=0, max=5011), HTML(value='')))"
      ]
     },
     "metadata": {},
     "output_type": "display_data"
    },
    {
     "name": "stdout",
     "output_type": "stream",
     "text": [
      "\n",
      "Kennedy\n"
     ]
    },
    {
     "data": {
      "application/vnd.jupyter.widget-view+json": {
       "model_id": "54a4e6b23c224b568fcf335f95c7d34d",
       "version_major": 2,
       "version_minor": 0
      },
      "text/plain": [
       "HBox(children=(IntProgress(value=0, max=5011), HTML(value='')))"
      ]
     },
     "metadata": {},
     "output_type": "display_data"
    },
    {
     "name": "stdout",
     "output_type": "stream",
     "text": [
      "\n",
      "Johnson\n"
     ]
    },
    {
     "data": {
      "application/vnd.jupyter.widget-view+json": {
       "model_id": "c525b22e98664ea999ebe46f672809bd",
       "version_major": 2,
       "version_minor": 0
      },
      "text/plain": [
       "HBox(children=(IntProgress(value=0, max=5011), HTML(value='')))"
      ]
     },
     "metadata": {},
     "output_type": "display_data"
    },
    {
     "name": "stdout",
     "output_type": "stream",
     "text": [
      "\n",
      "Nixon\n"
     ]
    },
    {
     "data": {
      "application/vnd.jupyter.widget-view+json": {
       "model_id": "185ff299312b425bb3f5c69a27f188ad",
       "version_major": 2,
       "version_minor": 0
      },
      "text/plain": [
       "HBox(children=(IntProgress(value=0, max=5011), HTML(value='')))"
      ]
     },
     "metadata": {},
     "output_type": "display_data"
    },
    {
     "name": "stdout",
     "output_type": "stream",
     "text": [
      "\n",
      "Ford\n"
     ]
    },
    {
     "data": {
      "application/vnd.jupyter.widget-view+json": {
       "model_id": "566669145dfb46edbb9fa8e8ede752bb",
       "version_major": 2,
       "version_minor": 0
      },
      "text/plain": [
       "HBox(children=(IntProgress(value=0, max=5011), HTML(value='')))"
      ]
     },
     "metadata": {},
     "output_type": "display_data"
    },
    {
     "name": "stdout",
     "output_type": "stream",
     "text": [
      "\n",
      "Carter\n"
     ]
    },
    {
     "data": {
      "application/vnd.jupyter.widget-view+json": {
       "model_id": "89d10d990f9844c38a09804fb4212869",
       "version_major": 2,
       "version_minor": 0
      },
      "text/plain": [
       "HBox(children=(IntProgress(value=0, max=5011), HTML(value='')))"
      ]
     },
     "metadata": {},
     "output_type": "display_data"
    },
    {
     "name": "stdout",
     "output_type": "stream",
     "text": [
      "\n",
      "Reagan\n"
     ]
    },
    {
     "data": {
      "application/vnd.jupyter.widget-view+json": {
       "model_id": "d2ea8aedce92457c8212e8cab7e1229d",
       "version_major": 2,
       "version_minor": 0
      },
      "text/plain": [
       "HBox(children=(IntProgress(value=0, max=5011), HTML(value='')))"
      ]
     },
     "metadata": {},
     "output_type": "display_data"
    },
    {
     "name": "stdout",
     "output_type": "stream",
     "text": [
      "\n",
      "Bush\n"
     ]
    },
    {
     "data": {
      "application/vnd.jupyter.widget-view+json": {
       "model_id": "5a703c2f9d544efea27926b1748e8474",
       "version_major": 2,
       "version_minor": 0
      },
      "text/plain": [
       "HBox(children=(IntProgress(value=0, max=5011), HTML(value='')))"
      ]
     },
     "metadata": {},
     "output_type": "display_data"
    },
    {
     "name": "stdout",
     "output_type": "stream",
     "text": [
      "\n",
      "Clinton\n"
     ]
    },
    {
     "data": {
      "application/vnd.jupyter.widget-view+json": {
       "model_id": "05cd901f5f864b2487a88a71ab9f412c",
       "version_major": 2,
       "version_minor": 0
      },
      "text/plain": [
       "HBox(children=(IntProgress(value=0, max=5011), HTML(value='')))"
      ]
     },
     "metadata": {},
     "output_type": "display_data"
    },
    {
     "name": "stdout",
     "output_type": "stream",
     "text": [
      "\n",
      "GWBush\n"
     ]
    },
    {
     "data": {
      "application/vnd.jupyter.widget-view+json": {
       "model_id": "1c9aee3145874b85baf61ac1811fd738",
       "version_major": 2,
       "version_minor": 0
      },
      "text/plain": [
       "HBox(children=(IntProgress(value=0, max=5011), HTML(value='')))"
      ]
     },
     "metadata": {},
     "output_type": "display_data"
    },
    {
     "name": "stdout",
     "output_type": "stream",
     "text": [
      "\n"
     ]
    }
   ],
   "source": [
    "word_proba_by_pres = dict()\n",
    "vocab = Vocabulary(state_union.words(), unk_cutoff=5)\n",
    "\n",
    "for pres, model in models.items():\n",
    "    print(pres)\n",
    "    word_proba_by_pres[pres] = []\n",
    "    for word in tqdm(vocab):\n",
    "        word_proba_by_pres[pres].append(model[1].score(word))"
   ]
  },
  {
   "cell_type": "code",
   "execution_count": 31,
   "metadata": {},
   "outputs": [],
   "source": [
    "kl_by_pres_couple = dict()\n",
    "\n",
    "for pres1, proba1 in word_proba_by_pres.items():\n",
    "    for pres2, proba2 in word_proba_by_pres.items():\n",
    "        if pres1 is not pres2:\n",
    "            key = tuple(sorted((pres1,pres2)))\n",
    "            if key not in kl_by_pres_couple:\n",
    "                kl_by_pres_couple[key]= entropy(proba1,proba2)"
   ]
  },
  {
   "cell_type": "code",
   "execution_count": 32,
   "metadata": {},
   "outputs": [
    {
     "name": "stdout",
     "output_type": "stream",
     "text": [
      "[(('Bush', 'Reagan'), 0.13561982679401094), (('Eisenhower', 'Truman'), 0.15520225855242428), (('Carter', 'Ford'), 0.1683426167582902), (('Eisenhower', 'Kennedy'), 0.18308115440582853), (('Johnson', 'Reagan'), 0.18480387384157568), (('Ford', 'Nixon'), 0.18735809086141245), (('Clinton', 'Reagan'), 0.18994328362159424), (('Bush', 'Clinton'), 0.19560645883820174), (('Ford', 'Kennedy'), 0.19654458603775551), (('Bush', 'Johnson'), 0.2002222064263302), (('Carter', 'Kennedy'), 0.20311966886014243), (('Ford', 'Johnson'), 0.20371276787328757), (('Johnson', 'Nixon'), 0.20639540428136702), (('Johnson', 'Kennedy'), 0.20820393761314127), (('Bush', 'Carter'), 0.21435653051972203), (('Carter', 'Nixon'), 0.21505577526862044), (('Carter', 'Reagan'), 0.21568761165632486), (('Bush', 'GWBush'), 0.21784371087455745), (('Eisenhower', 'Ford'), 0.2183589850548908), (('Carter', 'Johnson'), 0.21954902990564068), (('Nixon', 'Reagan'), 0.21989030390653508), (('Eisenhower', 'Johnson'), 0.22069904572150548), (('Ford', 'Reagan'), 0.22393213835500056), (('GWBush', 'Reagan'), 0.22542286603050007), (('Bush', 'Ford'), 0.22826450895284356), (('Clinton', 'GWBush'), 0.2331163629293937), (('Carter', 'Eisenhower'), 0.23820549510660902), (('Bush', 'Nixon'), 0.23831293117319813), (('Kennedy', 'Truman'), 0.24185724274597337), (('Eisenhower', 'Nixon'), 0.24428298486526284), (('Clinton', 'Johnson'), 0.24929521594680834), (('Kennedy', 'Reagan'), 0.24935636417955342), (('Kennedy', 'Nixon'), 0.2510980837766573), (('Bush', 'Kennedy'), 0.2552310193671096), (('GWBush', 'Johnson'), 0.2567851593735363), (('Eisenhower', 'Reagan'), 0.2626017663393756), (('Ford', 'Truman'), 0.2662821047527026), (('Johnson', 'Truman'), 0.2681623336249494), (('Nixon', 'Truman'), 0.2903936913696858), (('Carter', 'GWBush'), 0.2922563011266168), (('Bush', 'Eisenhower'), 0.3037889443219888), (('Carter', 'Truman'), 0.3092115271243801), (('Clinton', 'Nixon'), 0.31257033207028795), (('GWBush', 'Nixon'), 0.3142133052745152), (('Ford', 'GWBush'), 0.31519053074399356), (('GWBush', 'Kennedy'), 0.32326555262151757), (('Reagan', 'Truman'), 0.3242894603033596), (('Carter', 'Clinton'), 0.3508493100625856), (('Eisenhower', 'GWBush'), 0.3532407790852407), (('Clinton', 'Ford'), 0.35374075482180745), (('Bush', 'Truman'), 0.3668620599194713), (('Clinton', 'Kennedy'), 0.3849690313272844), (('GWBush', 'Truman'), 0.4115522225255996), (('Clinton', 'Eisenhower'), 0.41490198700878067), (('Clinton', 'Truman'), 0.46250418095810664)]\n"
     ]
    }
   ],
   "source": [
    "import operator\n",
    "kl_by_pres_couple = sorted(kl_by_pres_couple.items(), key=operator.itemgetter(1))\n",
    "\n",
    "print(kl_by_pres_couple)"
   ]
  },
  {
   "cell_type": "code",
   "execution_count": 33,
   "metadata": {},
   "outputs": [
    {
     "name": "stdout",
     "output_type": "stream",
     "text": [
      "Most similar presidents:    Bush       and Reagan | 0.13561982679401094\n",
      "Most dissimilar presidents: Clinton    and Truman | 0.46250418095810664\n"
     ]
    }
   ],
   "source": [
    "most_similar = kl_by_pres_couple[0]\n",
    "most_dissimilar = kl_by_pres_couple[-1]\n",
    "print(\"Most similar presidents:    {:10s} and {} | {}\".format(most_similar[0][0], most_similar[0][1], most_similar[1]))\n",
    "print(\"Most dissimilar presidents: {:10s} and {} | {}\".format(most_dissimilar[0][0], most_dissimilar[0][1], most_dissimilar[1]))"
   ]
  },
  {
   "cell_type": "markdown",
   "metadata": {},
   "source": [
    "### Question 5b"
   ]
  },
  {
   "cell_type": "markdown",
   "metadata": {},
   "source": [
    "Given author candidates A = {a1 . . . aj }, it is straightforward to build a model for each author by aggregating the training documents. We can build a model for an unattributed document in the same way. We can then determine the author model that is most similar to the model of the unknown document, by calculating KLD values between author models and unknown documents to identify the target author for which the KLD value is the smallest."
   ]
  },
  {
   "cell_type": "code",
   "execution_count": 35,
   "metadata": {
    "scrolled": true
   },
   "outputs": [
    {
     "name": "stdout",
     "output_type": "stream",
     "text": [
      "1789-Washington.txt\n",
      "1793-Washington.txt\n",
      "1797-Adams.txt\n",
      "1801-Jefferson.txt\n",
      "1805-Jefferson.txt\n",
      "1809-Madison.txt\n",
      "1813-Madison.txt\n",
      "1817-Monroe.txt\n",
      "1821-Monroe.txt\n",
      "1825-Adams.txt\n",
      "1829-Jackson.txt\n",
      "1833-Jackson.txt\n",
      "1837-VanBuren.txt\n",
      "1841-Harrison.txt\n",
      "1845-Polk.txt\n",
      "1849-Taylor.txt\n",
      "1853-Pierce.txt\n",
      "1857-Buchanan.txt\n",
      "1861-Lincoln.txt\n",
      "1865-Lincoln.txt\n",
      "1869-Grant.txt\n",
      "1873-Grant.txt\n",
      "1877-Hayes.txt\n",
      "1881-Garfield.txt\n",
      "1885-Cleveland.txt\n",
      "1889-Harrison.txt\n",
      "1893-Cleveland.txt\n",
      "1897-McKinley.txt\n",
      "1901-McKinley.txt\n",
      "1905-Roosevelt.txt\n",
      "1909-Taft.txt\n",
      "1913-Wilson.txt\n",
      "1917-Wilson.txt\n",
      "1921-Harding.txt\n",
      "1925-Coolidge.txt\n",
      "1929-Hoover.txt\n",
      "1933-Roosevelt.txt\n",
      "1937-Roosevelt.txt\n",
      "1941-Roosevelt.txt\n",
      "1945-Roosevelt.txt\n",
      "1949-Truman.txt\n",
      "1953-Eisenhower.txt\n",
      "1957-Eisenhower.txt\n",
      "1961-Kennedy.txt\n",
      "1965-Johnson.txt\n",
      "1969-Nixon.txt\n",
      "1973-Nixon.txt\n",
      "1977-Carter.txt\n",
      "1981-Reagan.txt\n",
      "1985-Reagan.txt\n",
      "1989-Bush.txt\n",
      "1993-Clinton.txt\n",
      "1997-Clinton.txt\n",
      "2001-Bush.txt\n",
      "2005-Bush.txt\n",
      "2009-Obama.txt\n"
     ]
    }
   ],
   "source": [
    "models_inaugural = dict()\n",
    "\n",
    "for fieldid in inaugural.fileids():\n",
    "    models_inaugural[fieldid] = dict()\n",
    "    print(fieldid)\n",
    "    for order in orders:\n",
    "        train, vocab = padded_everygram_pipeline(order, inaugural.sents(fieldid))\n",
    "        laplace_model = Laplace(order)\n",
    "        laplace_model.fit(train, vocab)\n",
    "        models_inaugural[fieldid][order] = laplace_model"
   ]
  },
  {
   "cell_type": "code",
   "execution_count": 38,
   "metadata": {},
   "outputs": [
    {
     "data": {
      "application/vnd.jupyter.widget-view+json": {
       "model_id": "d286a09fc57b47289da962487fb3c9fe",
       "version_major": 2,
       "version_minor": 0
      },
      "text/plain": [
       "HBox(children=(IntProgress(value=0, max=56), HTML(value='')))"
      ]
     },
     "metadata": {},
     "output_type": "display_data"
    },
    {
     "name": "stdout",
     "output_type": "stream",
     "text": [
      "1949-Truman.txt\n",
      "1953-Eisenhower.txt\n",
      "1957-Eisenhower.txt\n",
      "1961-Kennedy.txt\n",
      "1965-Johnson.txt\n",
      "1969-Nixon.txt\n",
      "1973-Nixon.txt\n",
      "1977-Carter.txt\n",
      "1981-Reagan.txt\n",
      "1985-Reagan.txt\n",
      "1989-Bush.txt\n",
      "1993-Clinton.txt\n",
      "1997-Clinton.txt\n",
      "2001-Bush.txt\n",
      "2005-Bush.txt\n"
     ]
    }
   ],
   "source": [
    "authorship_attribution = dict()\n",
    "\n",
    "for fieldid in tqdm(inaugural.fileids()):\n",
    "    current_pres = clean_str(fieldid)\n",
    "    \n",
    "    if current_pres in models:\n",
    "        print(fieldid)\n",
    "        vocab = Vocabulary(inaugural.words(fieldid), unk_cutoff=3)\n",
    "        authorship_attribution[fieldid] = []\n",
    "\n",
    "        current_score = [models_inaugural[fieldid][1].score(word) for word in vocab]\n",
    "\n",
    "        pres_kl = []\n",
    "\n",
    "        for pres, model in models.items():\n",
    "            pres_scores = [model[1].score(word) for word in vocab]\n",
    "            pres_kl.append((entropy(current_score,pres_scores),pres))\n",
    "\n",
    "        authorship_attribution[fieldid] = sorted(pres_kl)[0]"
   ]
  },
  {
   "cell_type": "code",
   "execution_count": 47,
   "metadata": {},
   "outputs": [
    {
     "name": "stdout",
     "output_type": "stream",
     "text": [
      "Attribution of the texts:\n",
      "  False | 1949-Truman.txt      | Eisenhower   | 0.224587472127727\n",
      "  True  | 1953-Eisenhower.txt  | Eisenhower   | 0.20741612477192864\n",
      "  False | 1957-Eisenhower.txt  | Kennedy      | 0.2472863768244922\n",
      "  False | 1961-Kennedy.txt     | Johnson      | 0.2894795427983745\n",
      "  True  | 1965-Johnson.txt     | Johnson      | 0.2519890167918344\n",
      "  False | 1969-Nixon.txt       | Johnson      | 0.22908180534566971\n",
      "  False | 1973-Nixon.txt       | Reagan       | 0.31042189280604393\n",
      "  True  | 1977-Carter.txt      | Carter       | 0.23368336905655565\n",
      "  True  | 1981-Reagan.txt      | Reagan       | 0.16718372949485386\n",
      "  True  | 1985-Reagan.txt      | Reagan       | 0.15107288138399178\n",
      "  True  | 1989-Bush.txt        | Bush         | 0.20875825137631038\n",
      "  False | 1993-Clinton.txt     | Bush         | 0.2523597172751155\n",
      "  False | 1997-Clinton.txt     | Bush         | 0.19956298248924623\n",
      "  False | 2001-Bush.txt        | GWBush       | 0.2239745242587436\n",
      "  False | 2005-Bush.txt        | GWBush       | 0.2937510759208243\n",
      "Accuracy: 0.4\n"
     ]
    }
   ],
   "source": [
    "print(\"Attribution of the texts:\")\n",
    "accuracy_attribution = []\n",
    "\n",
    "for fileid, res in authorship_attribution.items():\n",
    "    curr_pres = clean_str(fileid)\n",
    "    pres = res[1]\n",
    "    equal = curr_pres == pres\n",
    "    accuracy_attribution.append(equal)\n",
    "    print(\"  {:5s} | {:20s} | {:12s} | {}\".format(str(equal), fileid, pres, res[0]))\n",
    "\n",
    "print(\"Accuracy: {}\".format(np.mean(accuracy_attribution)))"
   ]
  },
  {
   "cell_type": "markdown",
   "metadata": {},
   "source": [
    "### Question 5c"
   ]
  },
  {
   "cell_type": "code",
   "execution_count": 48,
   "metadata": {},
   "outputs": [
    {
     "data": {
      "application/vnd.jupyter.widget-view+json": {
       "model_id": "0ca3e3839486425e8874b4a6ce7ba924",
       "version_major": 2,
       "version_minor": 0
      },
      "text/plain": [
       "HBox(children=(IntProgress(value=0, max=56), HTML(value='')))"
      ]
     },
     "metadata": {},
     "output_type": "display_data"
    },
    {
     "name": "stdout",
     "output_type": "stream",
     "text": [
      "1789-Washington.txt\n",
      "1793-Washington.txt\n",
      "1797-Adams.txt\n",
      "1801-Jefferson.txt\n",
      "1805-Jefferson.txt\n",
      "1809-Madison.txt\n",
      "1813-Madison.txt\n",
      "1817-Monroe.txt\n",
      "1821-Monroe.txt\n",
      "1825-Adams.txt\n",
      "1829-Jackson.txt\n",
      "1833-Jackson.txt\n",
      "1837-VanBuren.txt\n",
      "1841-Harrison.txt\n",
      "1845-Polk.txt\n",
      "1849-Taylor.txt\n",
      "1853-Pierce.txt\n",
      "1857-Buchanan.txt\n",
      "1861-Lincoln.txt\n",
      "1865-Lincoln.txt\n",
      "1869-Grant.txt\n",
      "1873-Grant.txt\n",
      "1877-Hayes.txt\n",
      "1881-Garfield.txt\n",
      "1885-Cleveland.txt\n",
      "1889-Harrison.txt\n",
      "1893-Cleveland.txt\n",
      "1897-McKinley.txt\n",
      "1901-McKinley.txt\n",
      "1905-Roosevelt.txt\n",
      "1909-Taft.txt\n",
      "1913-Wilson.txt\n",
      "1917-Wilson.txt\n",
      "1921-Harding.txt\n",
      "1925-Coolidge.txt\n",
      "1929-Hoover.txt\n",
      "1933-Roosevelt.txt\n",
      "1937-Roosevelt.txt\n",
      "1941-Roosevelt.txt\n",
      "1945-Roosevelt.txt\n",
      "2009-Obama.txt\n"
     ]
    }
   ],
   "source": [
    "similarity_old = dict()\n",
    "\n",
    "for fieldid in tqdm(inaugural.fileids()):\n",
    "    current_pres = clean_str(fieldid)\n",
    "\n",
    "    if current_pres not in models:\n",
    "        print(fieldid)\n",
    "        vocab = Vocabulary(inaugural.words(fieldid), unk_cutoff=3)\n",
    "        similarity_old[fieldid] = []\n",
    "\n",
    "        current_score = [models_inaugural[fieldid][1].score(word) for word in vocab]\n",
    "\n",
    "        pres_kl = []\n",
    "\n",
    "        for pres, model in models.items():\n",
    "            pres_scores = [model[1].score(word) for word in vocab]\n",
    "            pres_kl.append((entropy(current_score,pres_scores),pres))\n",
    "\n",
    "        similarity_old[fieldid] = sorted(pres_kl)[0]"
   ]
  },
  {
   "cell_type": "code",
   "execution_count": 49,
   "metadata": {},
   "outputs": [
    {
     "name": "stdout",
     "output_type": "stream",
     "text": [
      "Simalirty of the texts of old presidents with new presidents:\n",
      "  1789-Washington.txt  | Ford         | 0.29921397829590096\n",
      "  1793-Washington.txt  | Nixon        | 0.26633318781010296\n",
      "  1797-Adams.txt       | Ford         | 0.322542039366051\n",
      "  1801-Jefferson.txt   | Johnson      | 0.2736266374703082\n",
      "  1805-Jefferson.txt   | Kennedy      | 0.3699371159422185\n",
      "  1809-Madison.txt     | Kennedy      | 0.2380701708243708\n",
      "  1813-Madison.txt     | Truman       | 0.2715376218056452\n",
      "  1817-Monroe.txt      | Carter       | 0.2823109628564091\n",
      "  1821-Monroe.txt      | Eisenhower   | 0.3296395405455642\n",
      "  1825-Adams.txt       | Eisenhower   | 0.30145535407191304\n",
      "  1829-Jackson.txt     | Truman       | 0.231303979279852\n",
      "  1833-Jackson.txt     | Ford         | 0.31112748560714576\n",
      "  1837-VanBuren.txt    | Ford         | 0.2871794456781015\n",
      "  1841-Harrison.txt    | Ford         | 0.3363881786839984\n",
      "  1845-Polk.txt        | Ford         | 0.33931345947297575\n",
      "  1849-Taylor.txt      | Eisenhower   | 0.29055836180373307\n",
      "  1853-Pierce.txt      | Kennedy      | 0.28938832445287677\n",
      "  1857-Buchanan.txt    | Eisenhower   | 0.31630104177414337\n",
      "  1861-Lincoln.txt     | Ford         | 0.3832090824501778\n",
      "  1865-Lincoln.txt     | Johnson      | 0.2976541002789797\n",
      "  1869-Grant.txt       | Johnson      | 0.32289884694625215\n",
      "  1873-Grant.txt       | Ford         | 0.288431404990143\n",
      "  1877-Hayes.txt       | Eisenhower   | 0.3350660248486814\n",
      "  1881-Garfield.txt    | Eisenhower   | 0.2880429371789249\n",
      "  1885-Cleveland.txt   | Eisenhower   | 0.2777190742274564\n",
      "  1889-Harrison.txt    | Johnson      | 0.31347609591837056\n",
      "  1893-Cleveland.txt   | Eisenhower   | 0.24704482631832653\n",
      "  1897-McKinley.txt    | Eisenhower   | 0.2505464631240349\n",
      "  1901-McKinley.txt    | Truman       | 0.2408531213558132\n",
      "  1905-Roosevelt.txt   | Nixon        | 0.2870561677331822\n",
      "  1909-Taft.txt        | Ford         | 0.33683998078278354\n",
      "  1913-Wilson.txt      | Ford         | 0.31207603777824644\n",
      "  1917-Wilson.txt      | Eisenhower   | 0.3274435826610775\n",
      "  1921-Harding.txt     | Ford         | 0.24932095018683975\n",
      "  1925-Coolidge.txt    | Ford         | 0.22366948872658285\n",
      "  1929-Hoover.txt      | Eisenhower   | 0.23764470428995488\n",
      "  1933-Roosevelt.txt   | Ford         | 0.22130046355101315\n",
      "  1937-Roosevelt.txt   | Ford         | 0.2769316111221936\n",
      "  1941-Roosevelt.txt   | Johnson      | 0.264905047210378\n",
      "  1945-Roosevelt.txt   | Johnson      | 0.2394802533698988\n",
      "  2009-Obama.txt       | Reagan       | 0.1900402973463562\n"
     ]
    }
   ],
   "source": [
    "print(\"Simalirty of the texts of old presidents with new presidents:\")\n",
    "\n",
    "for fileid, res in similarity_old.items():\n",
    "    print(\"  {:20s} | {:12s} | {}\".format(fileid, res[1], res[0]))"
   ]
  }
 ],
 "metadata": {
  "kernelspec": {
   "display_name": "Python 3",
   "language": "python",
   "name": "python3"
  },
  "language_info": {
   "codemirror_mode": {
    "name": "ipython",
    "version": 3
   },
   "file_extension": ".py",
   "mimetype": "text/x-python",
   "name": "python",
   "nbconvert_exporter": "python",
   "pygments_lexer": "ipython3",
   "version": "3.6.8"
  }
 },
 "nbformat": 4,
 "nbformat_minor": 2
}
