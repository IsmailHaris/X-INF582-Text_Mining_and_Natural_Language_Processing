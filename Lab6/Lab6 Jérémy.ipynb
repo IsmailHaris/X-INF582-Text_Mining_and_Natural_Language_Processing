{
 "cells": [
  {
   "cell_type": "markdown",
   "metadata": {},
   "source": [
    "# NLTK and Language Models"
   ]
  },
  {
   "cell_type": "markdown",
   "metadata": {},
   "source": [
    "## 1. Preliminary steps"
   ]
  },
  {
   "cell_type": "code",
   "execution_count": 1,
   "metadata": {},
   "outputs": [],
   "source": [
    "import nltk\n",
    "from nltk.corpus import state_union\n",
    "from nltk.corpus import inaugural"
   ]
  },
  {
   "cell_type": "code",
   "execution_count": 2,
   "metadata": {},
   "outputs": [
    {
     "name": "stdout",
     "output_type": "stream",
     "text": [
      "['1789-Washington.txt', '1793-Washington.txt', '1797-Adams.txt', '1801-Jefferson.txt', '1805-Jefferson.txt', '1809-Madison.txt', '1813-Madison.txt', '1817-Monroe.txt', '1821-Monroe.txt', '1825-Adams.txt', '1829-Jackson.txt', '1833-Jackson.txt', '1837-VanBuren.txt', '1841-Harrison.txt', '1845-Polk.txt', '1849-Taylor.txt', '1853-Pierce.txt', '1857-Buchanan.txt', '1861-Lincoln.txt', '1865-Lincoln.txt', '1869-Grant.txt', '1873-Grant.txt', '1877-Hayes.txt', '1881-Garfield.txt', '1885-Cleveland.txt', '1889-Harrison.txt', '1893-Cleveland.txt', '1897-McKinley.txt', '1901-McKinley.txt', '1905-Roosevelt.txt', '1909-Taft.txt', '1913-Wilson.txt', '1917-Wilson.txt', '1921-Harding.txt', '1925-Coolidge.txt', '1929-Hoover.txt', '1933-Roosevelt.txt', '1937-Roosevelt.txt', '1941-Roosevelt.txt', '1945-Roosevelt.txt', '1949-Truman.txt', '1953-Eisenhower.txt', '1957-Eisenhower.txt', '1961-Kennedy.txt', '1965-Johnson.txt', '1969-Nixon.txt', '1973-Nixon.txt', '1977-Carter.txt', '1981-Reagan.txt', '1985-Reagan.txt', '1989-Bush.txt', '1993-Clinton.txt', '1997-Clinton.txt', '2001-Bush.txt', '2005-Bush.txt', '2009-Obama.txt']\n"
     ]
    }
   ],
   "source": [
    "print(inaugural.fileids())"
   ]
  },
  {
   "cell_type": "code",
   "execution_count": 4,
   "metadata": {},
   "outputs": [
    {
     "name": "stdout",
     "output_type": "stream",
     "text": [
      "My fellow citizens:\n",
      "\n",
      "I stand here today humbled by the task before us, grateful for the trust you have bestowed, mindful of the sacrifices borne by our ancestors. I thank President Bush for his service to our nation, as well as the generosity and cooperation he has shown throughout this transition.\n",
      "\n",
      "Forty-four Americans have now taken the presidential oath. The words have been spoken during rising tides of prosperity and the still waters of peace. Yet, every so often the oath is taken amidst gathering clouds and raging storms. At these moments, America has carried on not simply because of the skill or vision of those in high office, but because We the People have remained faithful to the ideals of our forbearers, and true to our founding documents.\n",
      "\n",
      "So it has been. So it must be with this generation of Americans.\n",
      "\n",
      "That we are in the midst of crisis is now well understood. Our nation is at war, against a far-reaching network of violence and hatred. Our economy is badly weakened, a consequence of greed and irresponsibility on the part of some, but also our collective failure to make hard choices and prepare the nation for a new age. Homes have been lost; jobs shed; businesses shuttered. Our health care is too costly; our schools fail too many; and each day brings further evidence that the ways we use energy strengthen our adversaries and threaten our planet.\n",
      "\n",
      "These are the indicators of crisis, subject to data and statistics. Less measurable but no less profound is a sapping of confidence across our land -- a nagging fear that America's decline is inevitable, that the next generation must lower its sights.\n",
      "\n",
      "Today I say to you that the challenges we face are real. They are serious and they are many. They will not be met easily or in a short span of time. But know this, America -- they will be met.\n",
      "\n",
      "On this day, we gather because we have chosen hope over fear, unity of purpose over conflict and discord.\n",
      "\n",
      "On this day, we come to proclaim an end to the petty grievances and false promises, the recriminations and worn-out dogmas that for far too long have strangled our politics.\n",
      "\n",
      "We remain a young nation, but in the words of Scripture, the time has come to set aside childish things. The time has come to reaffirm our enduring spirit; to choose our better history; to carry forward that precious gift, that noble idea, passed on from generation to generation: the God-given promise that all are equal, all are free, and all deserve a chance to pursue their full measure of happiness.\n",
      "\n",
      "In reaffirming the greatness of our nation, we understand that greatness is never a given. It must be earned. Our journey has never been one of shortcuts or settling for less. It has not been the path for the faint-hearted -- for those who prefer leisure over work, or seek only the pleasures of riches and fame. Rather, it has been the risk-takers, the doers, the makers of things'some celebrated but more often men and women obscure in their labor, who have carried us up the long, rugged path towards prosperity and freedom.\n",
      "\n",
      "For us, they packed up their few worldly possessions and traveled across oceans in search of a new life.\n",
      "\n",
      "For us, they toiled in sweatshops and settled the West; endured the lash of the whip and plowed the hard earth.\n",
      "\n",
      "For us, they fought and died, in places like Concord and Gettysburg; Normandy and Khe Sahn.\n",
      "\n",
      "Time and again these men and women struggled and sacrificed and worked till their hands were raw so that we might live a better life. They saw America as bigger than the sum of our individual ambitions; greater than all the differences of birth or wealth or faction.\n",
      "\n",
      "This is the journey we continue today. We remain the most prosperous, powerful nation on Earth. Our workers are no less productive than when this crisis began. Our minds are no less inventive, our goods and services no less needed than they were last week or last month or last year. Our capacity remains undiminished. But our time of standing pat, of protecting narrow interests and putting off unpleasant decisions -- that time has surely passed. Starting today, we must pick ourselves up, dust ourselves off, and begin again the work of remaking America.\n",
      "\n",
      "For everywhere we look, there is work to be done. The state of our economy calls for action, bold and swift, and we will act -- not only to create new jobs, but to lay a new foundation for growth. We will build the roads and bridges, the electric grids and digital lines that feed our commerce and bind us together. We will restore science to its rightful place, and wield technology's wonders to raise health care's quality and lower its cost. We will harness the sun and the winds and the soil to fuel our cars and run our factories. And we will transform our schools and colleges and universities to meet the demands of a new age. All this we can do. All this we will do.\n",
      "\n",
      "Now, there are some who question the scale of our ambitions -- who suggest that our system cannot tolerate too many big plans. Their memories are short. For they have forgotten what this country has already done; what free men and women can achieve when imagination is joined to common purpose, and necessity to courage.\n",
      "\n",
      "What the cynics fail to understand is that the ground has shifted beneath them -- that the stale political arguments that have consumed us for so long no longer apply. The question we ask today is not whether our government is too big or too small, but whether it works -- whether it helps families find jobs at a decent wage, care they can afford, a retirement that is dignified. Where the answer is yes, we intend to move forward. Where the answer is no, programs will end. And those of us who manage the public's dollars will be held to account -- to spend wisely, reform bad habits, and do our business in the light of day -- because only then can we restore the vital trust between a people and their government.\n",
      "\n",
      "Nor is the question before us whether the market is a force for good or ill. Its power to generate wealth and expand freedom is unmatched, but this crisis has reminded us that without a watchful eye, the market can spin out of control -- the nation cannot prosper long when it favors only the prosperous. The success of our economy has always depended not just on the size of our Gross Domestic Product, but on the reach of our prosperity; on the ability to extend opportunity to every willing heart -- not out of charity, but because it is the surest route to our common good.\n",
      "\n",
      "As for our common defense, we reject as false the choice between our safety and our ideals. Our Founding Fathers, faced with perils that we can scarcely imagine, drafted a charter to assure the rule of law and the rights of man, a charter expanded by the blood of generations. Those ideals still light the world, and we will not give them up for expedience's sake. And so to all the other peoples and governments who are watching today, from the grandest capitals to the small village where my father was born: know that America is a friend of each nation and every man, woman, and child who seeks a future of peace and dignity, and we are ready to lead once more.\n",
      "\n",
      "Recall that earlier generations faced down fascism and communism not just with missiles and tanks, but with the sturdy alliances and enduring convictions. They understood that our power alone cannot protect us, nor does it entitle us to do as we please. Instead, they knew that our power grows through its prudent use; our security emanates from the justness of our cause, the force of our example, the tempering qualities of humility and restraint.\n",
      "\n",
      "We are the keepers of this legacy. Guided by these principles once more, we can meet those new threats that demand even greater effort -- even greater cooperation and understanding between nations. We will begin to responsibly leave Iraq to its people, and forge a hard-earned peace in Afghanistan. With old friends and former foes, we will work tirelessly to lessen the nuclear threat, and roll back the specter of a warming planet. We will not apologize for our way of life, nor will we waver in its defense, and for those who seek to advance their aims by inducing terror and slaughtering innocents, we say to you now that our spirit is stronger and cannot be broken; you cannot outlast us, and we will defeat you.\n",
      "\n",
      "For we know that our patchwork heritage is a strength, not a weakness. We are a nation of Christians and Muslims, Jews and Hindus -- and non-believers. We are shaped by every language and culture, drawn from every end of this Earth; and because we have tasted the bitter swill of civil war and segregation, and emerged from that dark chapter stronger and more united, we cannot help but believe that the old hatreds shall someday pass; that the lines of tribe shall soon dissolve; that as the world grows smaller, our common humanity shall reveal itself; and that America must play its role in ushering in a new era of peace.\n",
      "\n",
      "To the Muslim world, we seek a new way forward, based on mutual interest and mutual respect. To those leaders around the globe who seek to sow conflict, or blame their society's ills on the West -- know that your people will judge you on what you can build, not what you destroy. To those who cling to power through corruption and deceit and the silencing of dissent, know that you are on the wrong side of history; but that we will extend a hand if you are willing to unclench your fist.\n",
      "\n",
      "To the people of poor nations, we pledge to work alongside you to make your farms flourish and let clean waters flow; to nourish starved bodies and feed hungry minds. And to those nations like ours that enjoy relative plenty, we say we can no longer afford indifference to the suffering outside our borders; nor can we consume the world's resources without regard to effect. For the world has changed, and we must change with it.\n",
      "\n",
      "As we consider the road that unfolds before us, we remember with humble gratitude those brave Americans who, at this very hour, patrol far-off deserts and distant mountains. They have something to tell us, just as the fallen heroes who lie in Arlington whisper through the ages. We honor them not only because they are the guardians of our liberty, but because they embody the spirit of service; a willingness to find meaning in something greater than themselves. And yet, at this moment -- a moment that will define a generation -- it is precisely this spirit that must inhabit us all.\n",
      "\n",
      "For as much as government can do and must do, it is ultimately the faith and determination of the American people upon which this nation relies. It is the kindness to take in a stranger when the levees break, the selflessness of workers who would rather cut their hours than see a friend lose their job which sees us through our darkest hours. It is the firefighter's courage to storm a stairway filled with smoke, but also a parent's willingness to nurture a child, that finally decides our fate.\n",
      "\n",
      " Our challenges may be new. The instruments with which we meet them may be new. But those values upon which our success depends -- honesty and hard work, courage and fair play, tolerance and curiosity, loyalty and patriotism -- these things are old. These things are true. They have been the quiet force of progress throughout our history. What is demanded then is a return to these truths. What is required of us now is a new era of responsibility -- a recognition, on the part of every American, that we have duties to ourselves, our nation, and the world, duties that we do not grudgingly accept but rather seize gladly, firm in the knowledge that there is nothing so satisfying to the spirit, so defining of our character, than giving our all to a difficult task.\n",
      "\n",
      "This is the price and the promise of citizenship.\n",
      "\n",
      "This is the source of our confidence -- the knowledge that God calls on us to shape an uncertain destiny.\n",
      "\n",
      "This is the meaning of our liberty and our creed -- why men and women and children of every race and every faith can join in celebration across this magnificent mall, and why a man whose father less than sixty years ago might not have been served at a local restaurant can now stand before you to take a most sacred oath.\n",
      "\n",
      "So let us mark this day with remembrance, of who we are and how far we have traveled. In the year of America's birth, in the coldest of months, a small band of patriots huddled by dying campfires on the shores of an icy river. The capital was abandoned. The enemy was advancing. The snow was stained with blood. At a moment when the outcome of our revolution was most in doubt, the father of our nation ordered these words be read to the people:\n",
      "\n",
      "\"Let it be told to the future world ... that in the depth of winter, when nothing but hope and virtue could survive ... that the city and the country, alarmed at one common danger, came forth to meet ... it.\"\n",
      "\n",
      "America! In the face of our common dangers, in this winter of our hardship, let us remember these timeless words. With hope and virtue, let us brave once more the icy currents, and endure what storms may come. Let it be said by our children's children that when we were tested we refused to let this journey end, that we did not turn back nor did we falter; and with eyes fixed on the horizon and God's grace upon us, we carried forth that great gift of freedom and delivered it safely to future generations.\n",
      "\n",
      "Thank you. God bless you. And God bless the United States of America.  \n",
      "\n"
     ]
    }
   ],
   "source": [
    "print(inaugural.raw('2009-Obama.txt'))"
   ]
  },
  {
   "cell_type": "code",
   "execution_count": 5,
   "metadata": {},
   "outputs": [
    {
     "name": "stdout",
     "output_type": "stream",
     "text": [
      "['My', 'fellow', 'citizens', ':', 'I', 'stand', 'here', ...]\n"
     ]
    }
   ],
   "source": [
    "print(inaugural.words('2009-Obama.txt'))"
   ]
  },
  {
   "cell_type": "code",
   "execution_count": 6,
   "metadata": {},
   "outputs": [
    {
     "name": "stdout",
     "output_type": "stream",
     "text": [
      "[['My', 'fellow', 'citizens', ':'], ['I', 'stand', 'here', 'today', 'humbled', 'by', 'the', 'task', 'before', 'us', ',', 'grateful', 'for', 'the', 'trust', 'you', 'have', 'bestowed', ',', 'mindful', 'of', 'the', 'sacrifices', 'borne', 'by', 'our', 'ancestors', '.'], ...]\n"
     ]
    }
   ],
   "source": [
    "print(inaugural.sents('2009-Obama.txt'))"
   ]
  },
  {
   "cell_type": "markdown",
   "metadata": {},
   "source": [
    "## 2. The lm module: basics"
   ]
  },
  {
   "cell_type": "code",
   "execution_count": 21,
   "metadata": {},
   "outputs": [],
   "source": [
    "from nltk.util import ngrams\n",
    "from nltk.lm import NgramCounter, Vocabulary\n",
    "import matplotlib.pyplot as plt\n",
    "import numpy as np"
   ]
  },
  {
   "cell_type": "code",
   "execution_count": 15,
   "metadata": {},
   "outputs": [
    {
     "name": "stdout",
     "output_type": "stream",
     "text": [
      "399829\n"
     ]
    }
   ],
   "source": [
    "text_unigrams = [ngrams(sent, 1) for sent in state_union.sents()]\n",
    "ngram_counts=NgramCounter(text_unigrams)\n",
    "print(ngram_counts.N())"
   ]
  },
  {
   "cell_type": "code",
   "execution_count": 14,
   "metadata": {},
   "outputs": [
    {
     "name": "stdout",
     "output_type": "stream",
     "text": [
      "19191\n",
      "0\n"
     ]
    }
   ],
   "source": [
    "print(ngram_counts['the'])\n",
    "print(ngram_counts[['the']]['new'])"
   ]
  },
  {
   "cell_type": "code",
   "execution_count": 22,
   "metadata": {},
   "outputs": [
    {
     "data": {
      "image/png": "[encoded data removed]",
      "text/plain": [
       "<Figure size 432x288 with 1 Axes>"
      ]
     },
     "metadata": {
      "needs_background": "light"
     },
     "output_type": "display_data"
    }
   ],
   "source": [
    "ngram_counts.unigrams.most_common(20)\n",
    "ngram_counts.unigrams.plot(20)"
   ]
  },
  {
   "cell_type": "code",
   "execution_count": 20,
   "metadata": {},
   "outputs": [
    {
     "name": "stdout",
     "output_type": "stream",
     "text": [
      "9105\n"
     ]
    }
   ],
   "source": [
    "vocab = Vocabulary(state_union.words(), unk_cutoff=2)\n",
    "print(len(vocab))"
   ]
  },
  {
   "cell_type": "markdown",
   "metadata": {},
   "source": [
    "### Exercise 1\n",
    "\n",
    "<b> Question 1.a : </b>"
   ]
  },
  {
   "cell_type": "code",
   "execution_count": 25,
   "metadata": {},
   "outputs": [
    {
     "data": {
      "image/png": "[encoded data removed]",
      "text/plain": [
       "<Figure size 1440x432 with 1 Axes>"
      ]
     },
     "metadata": {
      "needs_background": "light"
     },
     "output_type": "display_data"
    },
    {
     "name": "stdout",
     "output_type": "stream",
     "text": [
      "Max: 1841 - Harrison | 9165\n",
      "Min: 1793 - Washington | 147\n"
     ]
    }
   ],
   "source": [
    "results = []\n",
    "\n",
    "for fileid in inaugural.fileids():\n",
    "    text_unigrams = [ngrams(sent, 1) for sent in inaugural.sents(fileid)]\n",
    "    ngram_counts = NgramCounter(text_unigrams)\n",
    "    res = ngram_counts.N()\n",
    "    results.append((res, \"{} - {} | {}\".format(fileid[:4], fileid[5:-4], res)))\n",
    "\n",
    "results = sorted(results, reverse=True)\n",
    "results, presidents = map(list, zip(*results))\n",
    "\n",
    "plt.rcParams['figure.figsize'] = [20, 6]\n",
    "plt.bar(presidents, results)\n",
    "plt.xticks(presidents, rotation='vertical')\n",
    "plt.show()"
   ]
  },
  {
   "cell_type": "markdown",
   "metadata": {},
   "source": [
    "Harrison held the longest discourse in 1841.\n",
    "Washington the shortest one in 1793.\n",
    "\n",
    "<b> Question 1.b : </b>"
   ]
  },
  {
   "cell_type": "code",
   "execution_count": 28,
   "metadata": {},
   "outputs": [
    {
     "data": {
      "image/png": "[encoded data removed]",
      "text/plain": [
       "<Figure size 1440x432 with 1 Axes>"
      ]
     },
     "metadata": {
      "needs_background": "light"
     },
     "output_type": "display_data"
    }
   ],
   "source": [
    "results = []\n",
    "\n",
    "for fileid in inaugural.fileids():\n",
    "    vocab = Vocabulary(inaugural.words(fileid), unk_cutoff=1)\n",
    "    res = len(vocab)\n",
    "    results.append((res, \"{} - {} | {}\".format(fileid[:4], fileid[5:-4], res)))\n",
    "\n",
    "results = sorted(results, reverse=True)\n",
    "results, presidents = map(list, zip(*results))\n",
    "\n",
    "plt.rcParams['figure.figsize'] = [20, 6]\n",
    "plt.bar(presidents, results)\n",
    "plt.xticks(presidents, rotation='vertical')\n",
    "plt.show()"
   ]
  },
  {
   "cell_type": "markdown",
   "metadata": {},
   "source": [
    "Harrison had the richest vocabulary in 1894.\n",
    "\n",
    "To repeat the experiments in the state_union dataset, just replace inaugural by state_union in the two last code blocks. The rankings are completely different.\n",
    "\n",
    "## 3. Building a Language Model"
   ]
  },
  {
   "cell_type": "code",
   "execution_count": 34,
   "metadata": {},
   "outputs": [],
   "source": [
    "from nltk.lm.preprocessing import pad_both_ends, flatten, padded_everygram_pipeline\n",
    "from nltk.lm import MLE\n",
    "from nltk.util import bigrams, everygrams"
   ]
  },
  {
   "cell_type": "code",
   "execution_count": 33,
   "metadata": {},
   "outputs": [
    {
     "name": "stdout",
     "output_type": "stream",
     "text": [
      "['<s>', 'May', 'God', 'bless', 'America.', '</s>']\n",
      "[('<s>', 'May'), ('May', 'God'), ('God', 'bless'), ('bless', 'America.'), ('America.', '</s>')]\n",
      "['<', 's', '>', 'M', 'a', 'y', 'G', 'o', 'd', 'b', 'l', 'e', 's', 's', 'A', 'm', 'e', 'r', 'i', 'c', 'a', '.', '<', '/', 's', '>']\n"
     ]
    }
   ],
   "source": [
    "sentence = 'May God bless America.'.split()\n",
    "print(list(pad_both_ends(sentence, n=2)))\n",
    "print(list(bigrams(pad_both_ends(sentence, n=2))))\n",
    "print(list(flatten(pad_both_ends(sentence, n=2))))"
   ]
  },
  {
   "cell_type": "code",
   "execution_count": 35,
   "metadata": {},
   "outputs": [],
   "source": [
    "train, vocab = padded_everygram_pipeline(2, inaugural.sents())"
   ]
  },
  {
   "cell_type": "code",
   "execution_count": 36,
   "metadata": {},
   "outputs": [
    {
     "name": "stdout",
     "output_type": "stream",
     "text": [
      "192\n",
      "2\n",
      "0.05969602047970361\n",
      "0.0012349570016273132\n",
      "0.125\n"
     ]
    }
   ],
   "source": [
    "lm = MLE(2)\n",
    "lm.fit(train, vocab)\n",
    "print(lm.counts['America'])\n",
    "print(lm.counts[['bless']]['America'])\n",
    "print(lm.score('the'))\n",
    "print(lm.score('America'))\n",
    "print(lm.score(\"America\", [\"bless\"]))"
   ]
  },
  {
   "cell_type": "markdown",
   "metadata": {},
   "source": [
    "### Exercise 2"
   ]
  },
  {
   "cell_type": "code",
   "execution_count": 37,
   "metadata": {},
   "outputs": [],
   "source": [
    "train, vocab = padded_everygram_pipeline(2, state_union.sents())"
   ]
  },
  {
   "cell_type": "code",
   "execution_count": 38,
   "metadata": {},
   "outputs": [
    {
     "name": "stdout",
     "output_type": "stream",
     "text": [
      "1076\n",
      "12\n",
      "0.044047474230471735\n",
      "0.0024696515174815062\n",
      "0.3\n"
     ]
    }
   ],
   "source": [
    "lm = MLE(2)\n",
    "lm.fit(train, vocab)\n",
    "print(lm.counts['America'])\n",
    "print(lm.counts[['bless']]['America'])\n",
    "print(lm.score('the'))\n",
    "print(lm.score('America'))\n",
    "print(lm.score(\"America\", [\"bless\"]))"
   ]
  },
  {
   "cell_type": "code",
   "execution_count": 43,
   "metadata": {},
   "outputs": [
    {
     "name": "stdout",
     "output_type": "stream",
     "text": [
      "1076\n",
      "12\n",
      "6.853539853334247e-05\n",
      "6.853539853334247e-05\n",
      "0.29750137070797067\n"
     ]
    }
   ],
   "source": [
    "from nltk.lm import KneserNeyInterpolated\n",
    "train, vocab = padded_everygram_pipeline(2, state_union.sents())\n",
    "kneser = KneserNeyInterpolated(2)\n",
    "kneser.fit(train, vocab)\n",
    "print(kneser.counts['America'])\n",
    "print(kneser.counts[['bless']]['America'])\n",
    "print(kneser.score('the'))\n",
    "print(kneser.score('America'))\n",
    "print(kneser.score(\"America\", [\"bless\"]))"
   ]
  },
  {
   "cell_type": "markdown",
   "metadata": {},
   "source": [
    "## Generation"
   ]
  },
  {
   "cell_type": "markdown",
   "metadata": {},
   "source": [
    "### Exercise 3"
   ]
  },
  {
   "cell_type": "code",
   "execution_count": 46,
   "metadata": {},
   "outputs": [
    {
     "data": {
      "text/plain": [
       "['unity', 'is', 'becoming', 'more', 'often', 'find', 'a']"
      ]
     },
     "execution_count": 46,
     "metadata": {},
     "output_type": "execute_result"
    }
   ],
   "source": [
    "lm.generate(7)"
   ]
  },
  {
   "cell_type": "code",
   "execution_count": 47,
   "metadata": {},
   "outputs": [
    {
     "data": {
      "text/plain": [
       "['balanced',\n",
       " '.',\n",
       " '</s>',\n",
       " 'recession',\n",
       " 'or',\n",
       " 'cripple',\n",
       " 'our',\n",
       " 'lives',\n",
       " '.',\n",
       " '</s>',\n",
       " '</s>',\n",
       " 'to',\n",
       " 'divine',\n",
       " 'command',\n",
       " '.',\n",
       " '</s>',\n",
       " 'to',\n",
       " 'preserve',\n",
       " 'Social',\n",
       " 'Security']"
      ]
     },
     "execution_count": 47,
     "metadata": {},
     "output_type": "execute_result"
    }
   ],
   "source": [
    "lm.generate(20)"
   ]
  },
  {
   "cell_type": "code",
   "execution_count": 48,
   "metadata": {},
   "outputs": [
    {
     "data": {
      "text/plain": [
       "['of', 'our', 'birth', 'of', 'this', 'place', 'will', 'be', 'glad', 'to']"
      ]
     },
     "execution_count": 48,
     "metadata": {},
     "output_type": "execute_result"
    }
   ],
   "source": [
    "lm.generate(10)"
   ]
  },
  {
   "cell_type": "code",
   "execution_count": 52,
   "metadata": {},
   "outputs": [
    {
     "data": {
      "text/plain": [
       "['no', 'less', 'inventive', ',', 'in', 'a', 'force', 'of', 'humility', 'and']"
      ]
     },
     "execution_count": 52,
     "metadata": {},
     "output_type": "execute_result"
    }
   ],
   "source": [
    "train, vocab = padded_everygram_pipeline(2, \n",
    "                                    inaugural.sents('2009-Obama.txt'))\n",
    "lm_obama_2 = MLE(2)\n",
    "lm_obama_2.fit(train, vocab)\n",
    "lm_obama_2.generate(10)"
   ]
  },
  {
   "cell_type": "code",
   "execution_count": 53,
   "metadata": {},
   "outputs": [
    {
     "data": {
      "text/plain": [
       "['are',\n",
       " 'a',\n",
       " 'nation',\n",
       " 'of',\n",
       " 'Christians',\n",
       " 'and',\n",
       " 'Muslims',\n",
       " ',',\n",
       " 'Jews',\n",
       " 'and']"
      ]
     },
     "execution_count": 53,
     "metadata": {},
     "output_type": "execute_result"
    }
   ],
   "source": [
    "train, vocab = padded_everygram_pipeline(3, \n",
    "                                    inaugural.sents('2009-Obama.txt'))\n",
    "lm_obama_3 = MLE(3)\n",
    "lm_obama_3.fit(train, vocab)\n",
    "lm_obama_3.generate(10)"
   ]
  },
  {
   "cell_type": "code",
   "execution_count": 57,
   "metadata": {},
   "outputs": [
    {
     "data": {
      "text/plain": [
       "['stronger',\n",
       " 'and',\n",
       " 'more',\n",
       " 'united',\n",
       " ',',\n",
       " 'we',\n",
       " 'cannot',\n",
       " 'help',\n",
       " 'but',\n",
       " 'believe']"
      ]
     },
     "execution_count": 57,
     "metadata": {},
     "output_type": "execute_result"
    }
   ],
   "source": [
    "train, vocab = padded_everygram_pipeline(4, \n",
    "                                    inaugural.sents('2009-Obama.txt'))\n",
    "lm_obama_4 = MLE(4)\n",
    "lm_obama_4.fit(train, vocab)\n",
    "lm_obama_4.generate(10)"
   ]
  },
  {
   "cell_type": "code",
   "execution_count": 59,
   "metadata": {},
   "outputs": [
    {
     "data": {
      "text/plain": [
       "['all',\n",
       " 'deserve',\n",
       " 'a',\n",
       " 'chance',\n",
       " 'to',\n",
       " 'pursue',\n",
       " 'their',\n",
       " 'full',\n",
       " 'measure',\n",
       " 'of',\n",
       " 'happiness',\n",
       " '.',\n",
       " '</s>',\n",
       " '</s>',\n",
       " '</s>',\n",
       " '</s>',\n",
       " '</s>',\n",
       " '</s>',\n",
       " '</s>',\n",
       " '</s>',\n",
       " '</s>',\n",
       " '</s>',\n",
       " '</s>',\n",
       " '</s>',\n",
       " '</s>',\n",
       " '</s>',\n",
       " '</s>',\n",
       " '</s>',\n",
       " '</s>',\n",
       " '</s>']"
      ]
     },
     "execution_count": 59,
     "metadata": {},
     "output_type": "execute_result"
    }
   ],
   "source": [
    "lm_obama_4.generate(30)"
   ]
  },
  {
   "cell_type": "markdown",
   "metadata": {},
   "source": [
    "### Exercise 4"
   ]
  },
  {
   "cell_type": "code",
   "execution_count": 61,
   "metadata": {},
   "outputs": [
    {
     "name": "stderr",
     "output_type": "stream",
     "text": [
      "Using TensorFlow backend.\n"
     ]
    }
   ],
   "source": [
    "from keras.preprocessing.sequence import pad_sequences\n",
    "from keras.layers import Embedding, LSTM, Dense, Dropout\n",
    "from keras.preprocessing.text import Tokenizer\n",
    "from keras.callbacks import EarlyStopping\n",
    "from keras.models import Sequential\n",
    "import keras.utils as ku\n",
    "import numpy as np"
   ]
  },
  {
   "cell_type": "code",
   "execution_count": 69,
   "metadata": {},
   "outputs": [],
   "source": [
    "data = inaugural.raw('2009-Obama.txt')\n",
    "\n",
    "tokenizer = Tokenizer()\n",
    "\n",
    "def dataset_preparation(data):\n",
    "    corpus = data.lower().split(\"\\n\")\n",
    "    tokenizer.fit_on_texts(corpus)\n",
    "    total_words = len(tokenizer.word_index) + 1\n",
    "    input_sequences = []\n",
    "    for line in corpus:\n",
    "        token_list = tokenizer.texts_to_sequences([line])[0]\n",
    "        for i in range(1, len(token_list)):\n",
    "            n_gram_sequence = token_list[:i+1]\n",
    "            input_sequences.append(n_gram_sequence)\n",
    "\n",
    "    max_sequence_len = max([len(x) for x in input_sequences])\n",
    "    input_sequences = np.array(pad_sequences(input_sequences, maxlen=max_sequence_len, padding='pre'))\n",
    "\n",
    "    predictors, label = input_sequences[:,:-1],input_sequences[:,-1]\n",
    "    label = ku.to_categorical(label, num_classes=total_words)\n",
    "    return predictors, label, max_sequence_len, total_words\n",
    "\n",
    "def create_model(predictors, label, max_sequence_len, total_words):\n",
    "    input_len = max_sequence_len - 1\n",
    "    model = Sequential()\n",
    "    model.add(Embedding(total_words, 10, input_length=input_len)) #Input Layer : Takes the sequence of words as input\n",
    "    model.add(LSTM(150)) #LSTM Layer : Computes the output using LSTM units. I have added 100 units in the layer, but this number can be fine tuned later.\n",
    "    model.add(Dropout(0.1)) #Dropout Layer : A regularisation layer which randomly turns-off the activations of some neurons in the LSTM layer. It helps in preventing over fitting.\n",
    "    model.add(Dense(total_words, activation='softmax')) #Output Layer : Computes the probability of the best possible next word as output\n",
    "    model.compile(loss='categorical_crossentropy', optimizer='adam')\n",
    "    model.fit(predictors, label, epochs=10, verbose=1)\n",
    "    return model\n",
    "\n",
    "def generate_text(seed_text, next_words, max_sequence_len, model):\n",
    "    for j in range(next_words):\n",
    "        token_list = tokenizer.texts_to_sequences([seed_text])[0]\n",
    "        token_list = pad_sequences([token_list], maxlen=\n",
    "                             max_sequence_len-1, padding='pre')\n",
    "        predicted = model.predict_classes(token_list, verbose=0)\n",
    "\n",
    "        output_word = \"\"\n",
    "        for word, index in tokenizer.word_index.items():\n",
    "            if index == predicted:\n",
    "                output_word = word\n",
    "                break\n",
    "        seed_text += \" \" + output_word\n",
    "    return seed_text"
   ]
  },
  {
   "cell_type": "code",
   "execution_count": 70,
   "metadata": {},
   "outputs": [
    {
     "name": "stdout",
     "output_type": "stream",
     "text": [
      "Epoch 1/10\n",
      "2363/2363 [==============================] - 50s 21ms/step - loss: 6.3406\n",
      "Epoch 2/10\n",
      "2363/2363 [==============================] - 45s 19ms/step - loss: 5.8878\n",
      "Epoch 3/10\n",
      "2363/2363 [==============================] - 45s 19ms/step - loss: 5.8111\n",
      "Epoch 4/10\n",
      "2363/2363 [==============================] - 46s 19ms/step - loss: 5.7357\n",
      "Epoch 5/10\n",
      "2363/2363 [==============================] - 48s 20ms/step - loss: 5.6592\n",
      "Epoch 6/10\n",
      "2363/2363 [==============================] - 45s 19ms/step - loss: 5.5969\n",
      "Epoch 7/10\n",
      "2363/2363 [==============================] - 46s 19ms/step - loss: 5.5281\n",
      "Epoch 8/10\n",
      "2363/2363 [==============================] - 46s 20ms/step - loss: 5.4502\n",
      "Epoch 9/10\n",
      "2363/2363 [==============================] - 45s 19ms/step - loss: 5.3774\n",
      "Epoch 10/10\n",
      "2363/2363 [==============================] - 44s 19ms/step - loss: 5.2870\n",
      "I belive the world of\n"
     ]
    }
   ],
   "source": [
    "X, Y, msl, total_words = dataset_preparation(data)\n",
    "model = create_model(X, Y, msl, total_words)\n",
    "\n",
    "text = generate_text(\"I belive\", 3, msl, model)\n",
    "print(text)"
   ]
  },
  {
   "cell_type": "code",
   "execution_count": 71,
   "metadata": {},
   "outputs": [
    {
     "name": "stdout",
     "output_type": "stream",
     "text": [
      "I belive the world of the world of our nation of the\n"
     ]
    }
   ],
   "source": [
    "text = generate_text(\"I belive\", 10, msl, model)\n",
    "print(text)"
   ]
  },
  {
   "cell_type": "markdown",
   "metadata": {},
   "source": [
    "## Authorship attribution\n",
    "\n",
    "### Exercise 5"
   ]
  },
  {
   "cell_type": "code",
   "execution_count": 78,
   "metadata": {},
   "outputs": [],
   "source": [
    "def clean_str(fieldid):\n",
    "    fieldid = fieldid[5:-3]\n",
    "    for char in list(range(10))+[\"-\",\".\"]:\n",
    "        fieldid = fieldid.replace(str(char),\"\")\n",
    "    return fieldid"
   ]
  },
  {
   "cell_type": "code",
   "execution_count": 79,
   "metadata": {},
   "outputs": [],
   "source": [
    "all_sentences_by_pres_state_union = dict()\n",
    "\n",
    "for fieldid in state_union.fileids():\n",
    "    pres = clean_str(fieldid)\n",
    "    if pres not in all_sentences_by_pres_state_union:\n",
    "        all_sentences_by_pres_state_union[pres] = state_union.sents(fieldid)\n",
    "    else:\n",
    "        all_sentences_by_pres_state_union[pres] += state_union.sents(fieldid)"
   ]
  },
  {
   "cell_type": "code",
   "execution_count": 81,
   "metadata": {},
   "outputs": [
    {
     "name": "stdout",
     "output_type": "stream",
     "text": [
      "Truman\n",
      "Eisenhower\n",
      "Kennedy\n",
      "Johnson\n",
      "Nixon\n",
      "Ford\n",
      "Carter\n",
      "Reagan\n",
      "Bush\n",
      "Clinton\n",
      "GWBush\n"
     ]
    }
   ],
   "source": [
    "from nltk.lm import Laplace\n",
    "\n",
    "models = dict()\n",
    "orders = [1,2,3]\n",
    "\n",
    "for pres, sents in all_sentences_by_pres_state_union.items():\n",
    "    models[pres] = dict()\n",
    "    print(pres)\n",
    "    for order in orders:\n",
    "        train, vocab = padded_everygram_pipeline(order, sents)\n",
    "        laplace_model = Laplace(order)\n",
    "        laplace_model.fit(train, vocab)\n",
    "        models[pres][order] = laplace_model"
   ]
  },
  {
   "cell_type": "code",
   "execution_count": 82,
   "metadata": {},
   "outputs": [],
   "source": [
    "from tqdm import tqdm_notebook as tqdm"
   ]
  },
  {
   "cell_type": "code",
   "execution_count": 83,
   "metadata": {
    "scrolled": false
   },
   "outputs": [
    {
     "name": "stdout",
     "output_type": "stream",
     "text": [
      "Truman\n"
     ]
    },
    {
     "data": {
      "application/vnd.jupyter.widget-view+json": {
       "model_id": "5f7f9158e3604142a409791c0a1f75e2",
       "version_major": 2,
       "version_minor": 0
      },
      "text/plain": [
       "HBox(children=(IntProgress(value=0, max=5011), HTML(value='')))"
      ]
     },
     "metadata": {},
     "output_type": "display_data"
    },
    {
     "name": "stdout",
     "output_type": "stream",
     "text": [
      "\n",
      "Eisenhower\n"
     ]
    },
    {
     "data": {
      "application/vnd.jupyter.widget-view+json": {
       "model_id": "c8249bd6d504426fa4ed2b7e1597ccda",
       "version_major": 2,
       "version_minor": 0
      },
      "text/plain": [
       "HBox(children=(IntProgress(value=0, max=5011), HTML(value='')))"
      ]
     },
     "metadata": {},
     "output_type": "display_data"
    },
    {
     "name": "stdout",
     "output_type": "stream",
     "text": [
      "\n",
      "Kennedy\n"
     ]
    },
    {
     "data": {
      "application/vnd.jupyter.widget-view+json": {
       "model_id": "6c0dd68d0d0c4d5c8abdce4b911eecef",
       "version_major": 2,
       "version_minor": 0
      },
      "text/plain": [
       "HBox(children=(IntProgress(value=0, max=5011), HTML(value='')))"
      ]
     },
     "metadata": {},
     "output_type": "display_data"
    },
    {
     "name": "stdout",
     "output_type": "stream",
     "text": [
      "\n",
      "Johnson\n"
     ]
    },
    {
     "data": {
      "application/vnd.jupyter.widget-view+json": {
       "model_id": "dd56b8285ad742edb1b671bfcc59064f",
       "version_major": 2,
       "version_minor": 0
      },
      "text/plain": [
       "HBox(children=(IntProgress(value=0, max=5011), HTML(value='')))"
      ]
     },
     "metadata": {},
     "output_type": "display_data"
    },
    {
     "name": "stdout",
     "output_type": "stream",
     "text": [
      "\n",
      "Nixon\n"
     ]
    },
    {
     "data": {
      "application/vnd.jupyter.widget-view+json": {
       "model_id": "d0818eb4619946de8768d1ea5dc213ad",
       "version_major": 2,
       "version_minor": 0
      },
      "text/plain": [
       "HBox(children=(IntProgress(value=0, max=5011), HTML(value='')))"
      ]
     },
     "metadata": {},
     "output_type": "display_data"
    },
    {
     "name": "stdout",
     "output_type": "stream",
     "text": [
      "\n",
      "Ford\n"
     ]
    },
    {
     "data": {
      "application/vnd.jupyter.widget-view+json": {
       "model_id": "bc169a87f3d94892a2c86806b06d1606",
       "version_major": 2,
       "version_minor": 0
      },
      "text/plain": [
       "HBox(children=(IntProgress(value=0, max=5011), HTML(value='')))"
      ]
     },
     "metadata": {},
     "output_type": "display_data"
    },
    {
     "name": "stdout",
     "output_type": "stream",
     "text": [
      "\n",
      "Carter\n"
     ]
    },
    {
     "data": {
      "application/vnd.jupyter.widget-view+json": {
       "model_id": "80671b3a216c46849873b9fef9ede7c1",
       "version_major": 2,
       "version_minor": 0
      },
      "text/plain": [
       "HBox(children=(IntProgress(value=0, max=5011), HTML(value='')))"
      ]
     },
     "metadata": {},
     "output_type": "display_data"
    },
    {
     "name": "stdout",
     "output_type": "stream",
     "text": [
      "\n",
      "Reagan\n"
     ]
    },
    {
     "data": {
      "application/vnd.jupyter.widget-view+json": {
       "model_id": "839d56aab1cb4dc9abc08111840c0bf6",
       "version_major": 2,
       "version_minor": 0
      },
      "text/plain": [
       "HBox(children=(IntProgress(value=0, max=5011), HTML(value='')))"
      ]
     },
     "metadata": {},
     "output_type": "display_data"
    },
    {
     "name": "stdout",
     "output_type": "stream",
     "text": [
      "\n",
      "Bush\n"
     ]
    },
    {
     "data": {
      "application/vnd.jupyter.widget-view+json": {
       "model_id": "240fc583b31d4b028ca661e76134a749",
       "version_major": 2,
       "version_minor": 0
      },
      "text/plain": [
       "HBox(children=(IntProgress(value=0, max=5011), HTML(value='')))"
      ]
     },
     "metadata": {},
     "output_type": "display_data"
    },
    {
     "name": "stdout",
     "output_type": "stream",
     "text": [
      "\n",
      "Clinton\n"
     ]
    },
    {
     "data": {
      "application/vnd.jupyter.widget-view+json": {
       "model_id": "17968460d52845d69f98aec09fc2108a",
       "version_major": 2,
       "version_minor": 0
      },
      "text/plain": [
       "HBox(children=(IntProgress(value=0, max=5011), HTML(value='')))"
      ]
     },
     "metadata": {},
     "output_type": "display_data"
    },
    {
     "name": "stdout",
     "output_type": "stream",
     "text": [
      "\n",
      "GWBush\n"
     ]
    },
    {
     "data": {
      "application/vnd.jupyter.widget-view+json": {
       "model_id": "c0f2aaa5af704ff6a9f2c4925a2076ec",
       "version_major": 2,
       "version_minor": 0
      },
      "text/plain": [
       "HBox(children=(IntProgress(value=0, max=5011), HTML(value='')))"
      ]
     },
     "metadata": {},
     "output_type": "display_data"
    },
    {
     "name": "stdout",
     "output_type": "stream",
     "text": [
      "\n"
     ]
    }
   ],
   "source": [
    "word_proba_by_pres = dict()\n",
    "vocab = Vocabulary(state_union.words(), unk_cutoff=5)\n",
    "\n",
    "for pres, model in models.items():\n",
    "    print(pres)\n",
    "    word_proba_by_pres[pres] = []\n",
    "    for word in tqdm(vocab):\n",
    "        word_proba_by_pres[pres].append(model[1].score(word))"
   ]
  },
  {
   "cell_type": "code",
   "execution_count": 84,
   "metadata": {},
   "outputs": [],
   "source": [
    "from scipy.stats import entropy"
   ]
  },
  {
   "cell_type": "code",
   "execution_count": 85,
   "metadata": {},
   "outputs": [],
   "source": [
    "kl_by_pres_couple = dict()\n",
    "\n",
    "for pres1, proba1 in word_proba_by_pres.items():\n",
    "    for pres2, proba2 in word_proba_by_pres.items():\n",
    "        if pres1 is not pres2:\n",
    "            key = tuple(sorted((pres1,pres2)))\n",
    "            if key not in kl_by_pres_couple:\n",
    "                kl_by_pres_couple[key]= entropy(proba1,proba2)"
   ]
  },
  {
   "cell_type": "code",
   "execution_count": 86,
   "metadata": {},
   "outputs": [
    {
     "name": "stdout",
     "output_type": "stream",
     "text": [
      "[(('Bush', 'Reagan'), 0.13561982679401094), (('Eisenhower', 'Truman'), 0.15520225855242428), (('Carter', 'Ford'), 0.1683426167582902), (('Eisenhower', 'Kennedy'), 0.18308115440582853), (('Johnson', 'Reagan'), 0.18480387384157568), (('Ford', 'Nixon'), 0.18735809086141245), (('Clinton', 'Reagan'), 0.18994328362159424), (('Bush', 'Clinton'), 0.19560645883820174), (('Ford', 'Kennedy'), 0.19654458603775551), (('Bush', 'Johnson'), 0.2002222064263302), (('Carter', 'Kennedy'), 0.20311966886014243), (('Ford', 'Johnson'), 0.20371276787328757), (('Johnson', 'Nixon'), 0.20639540428136702), (('Johnson', 'Kennedy'), 0.20820393761314127), (('Bush', 'Carter'), 0.21435653051972203), (('Carter', 'Nixon'), 0.21505577526862044), (('Carter', 'Reagan'), 0.21568761165632486), (('Bush', 'GWBush'), 0.21784371087455745), (('Eisenhower', 'Ford'), 0.2183589850548908), (('Carter', 'Johnson'), 0.21954902990564068), (('Nixon', 'Reagan'), 0.21989030390653508), (('Eisenhower', 'Johnson'), 0.22069904572150548), (('Ford', 'Reagan'), 0.22393213835500056), (('GWBush', 'Reagan'), 0.22542286603050007), (('Bush', 'Ford'), 0.22826450895284356), (('Clinton', 'GWBush'), 0.2331163629293937), (('Carter', 'Eisenhower'), 0.23820549510660902), (('Bush', 'Nixon'), 0.23831293117319813), (('Kennedy', 'Truman'), 0.24185724274597337), (('Eisenhower', 'Nixon'), 0.24428298486526284), (('Clinton', 'Johnson'), 0.24929521594680834), (('Kennedy', 'Reagan'), 0.24935636417955342), (('Kennedy', 'Nixon'), 0.2510980837766573), (('Bush', 'Kennedy'), 0.2552310193671096), (('GWBush', 'Johnson'), 0.2567851593735363), (('Eisenhower', 'Reagan'), 0.2626017663393756), (('Ford', 'Truman'), 0.2662821047527026), (('Johnson', 'Truman'), 0.2681623336249494), (('Nixon', 'Truman'), 0.2903936913696858), (('Carter', 'GWBush'), 0.2922563011266168), (('Bush', 'Eisenhower'), 0.3037889443219888), (('Carter', 'Truman'), 0.3092115271243801), (('Clinton', 'Nixon'), 0.31257033207028795), (('GWBush', 'Nixon'), 0.3142133052745152), (('Ford', 'GWBush'), 0.31519053074399356), (('GWBush', 'Kennedy'), 0.32326555262151757), (('Reagan', 'Truman'), 0.3242894603033596), (('Carter', 'Clinton'), 0.3508493100625856), (('Eisenhower', 'GWBush'), 0.3532407790852407), (('Clinton', 'Ford'), 0.35374075482180745), (('Bush', 'Truman'), 0.3668620599194713), (('Clinton', 'Kennedy'), 0.3849690313272844), (('GWBush', 'Truman'), 0.4115522225255996), (('Clinton', 'Eisenhower'), 0.41490198700878067), (('Clinton', 'Truman'), 0.46250418095810664)]\n"
     ]
    }
   ],
   "source": [
    "import operator\n",
    "kl_by_pres_couple = sorted(kl_by_pres_couple.items(), key=operator.itemgetter(1))\n",
    "\n",
    "print(kl_by_pres_couple)"
   ]
  },
  {
   "cell_type": "markdown",
   "metadata": {},
   "source": [
    "#### Question 5.a"
   ]
  },
  {
   "cell_type": "code",
   "execution_count": 87,
   "metadata": {},
   "outputs": [
    {
     "name": "stdout",
     "output_type": "stream",
     "text": [
      "Most similar presidents:    Bush       and Reagan | 0.13561982679401094\n",
      "Most dissimilar presidents: Clinton    and Truman | 0.46250418095810664\n"
     ]
    }
   ],
   "source": [
    "most_similar = kl_by_pres_couple[0]\n",
    "most_dissimilar = kl_by_pres_couple[-1]\n",
    "print(\"Most similar presidents:    {:10s} and {} | {}\".format(most_similar[0][0], most_similar[0][1], most_similar[1]))\n",
    "print(\"Most dissimilar presidents: {:10s} and {} | {}\".format(most_dissimilar[0][0], most_dissimilar[0][1], most_dissimilar[1]))"
   ]
  },
  {
   "cell_type": "markdown",
   "metadata": {},
   "source": [
    "#### Question 5.b"
   ]
  }
 ],
 "metadata": {
  "kernelspec": {
   "display_name": "Python 3",
   "language": "python",
   "name": "python3"
  },
  "language_info": {
   "codemirror_mode": {
    "name": "ipython",
    "version": 3
   },
   "file_extension": ".py",
   "mimetype": "text/x-python",
   "name": "python",
   "nbconvert_exporter": "python",
   "pygments_lexer": "ipython3",
   "version": "3.6.6"
  }
 },
 "nbformat": 4,
 "nbformat_minor": 2
}
