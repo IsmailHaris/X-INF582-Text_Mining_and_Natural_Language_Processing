{
 "cells": [
  {
   "cell_type": "code",
   "execution_count": 1,
   "metadata": {},
   "outputs": [],
   "source": [
    "import string\n",
    "from nltk.corpus import stopwords\n",
    "from library import clean_text_simple, terms_to_graph, unweighted_k_core\n",
    "\n",
    "# execute the following if you haven't already (nltk > 3.2.1 is required)\n",
    "#import nltk \n",
    "#nltk.download('stopwords')\n",
    "#nltk.download('maxent_treebank_pos_tagger')\n",
    "#nltk.download('averaged_perceptron_tagger')\n",
    "\n",
    "#import os\n",
    "#os.chdir() # change working directory to where functions are"
   ]
  },
  {
   "cell_type": "code",
   "execution_count": 2,
   "metadata": {},
   "outputs": [
    {
     "name": "stdout",
     "output_type": "stream",
     "text": [
      "A method for solution of systems of linear algebraic equations with m-dimensional lambda matrices. A system of linear algebraic equations with m-dimensional lambda matrices is considered. The proposed method of searching for the solution of this system lies in reducing it to a numerical system of a special kind.\n"
     ]
    }
   ],
   "source": [
    "my_doc = '''A method for solution of systems of linear algebraic equations \\\n",
    "with m-dimensional lambda matrices. A system of linear algebraic \\\n",
    "equations with m-dimensional lambda matrices is considered. \\\n",
    "The proposed method of searching for the solution of this system \\\n",
    "lies in reducing it to a numerical system of a special kind.'''\n",
    "#my_doc = my_doc.replace('\\n', '')\n",
    "print(my_doc)"
   ]
  },
  {
   "cell_type": "code",
   "execution_count": 3,
   "metadata": {},
   "outputs": [
    {
     "name": "stdout",
     "output_type": "stream",
     "text": [
      "Number of different tokens = 12\n"
     ]
    }
   ],
   "source": [
    "# pre-process document\n",
    "stpwds = stopwords.words('english')\n",
    "punct = string.punctuation.replace('-', '')\n",
    "my_tokens = clean_text_simple(my_doc,my_stopwords=stpwds,punct=punct)\n",
    "print(\"Number of different tokens =\", len(set(my_tokens)))"
   ]
  },
  {
   "cell_type": "code",
   "execution_count": 4,
   "metadata": {
    "scrolled": false
   },
   "outputs": [
    {
     "name": "stdout",
     "output_type": "stream",
     "text": [
      "Number of vertices =  12\n",
      "Number of edges    =  42\n",
      "[['method', 'solut', 2], ['method', 'system', 2], ['method', 'linear', 1], ['solut', 'system', 3], ['solut', 'linear', 1], ['system', 'linear', 2], ['solut', 'algebra', 1], ['system', 'algebra', 2], ['linear', 'algebra', 2], ['system', 'equat', 2], ['linear', 'equat', 2], ['algebra', 'equat', 2], ['linear', 'm-dimension', 2], ['algebra', 'm-dimension', 2], ['equat', 'm-dimension', 2], ['algebra', 'lambda', 2], ['equat', 'lambda', 2], ['m-dimension', 'lambda', 2], ['equat', 'system', 1], ['m-dimension', 'system', 1], ['lambda', 'system', 1], ['m-dimension', 'linear', 1], ['lambda', 'linear', 1], ['lambda', 'algebra', 1], ['equat', 'matric', 1], ['m-dimension', 'matric', 1], ['lambda', 'matric', 1], ['m-dimension', 'method', 1], ['lambda', 'method', 1], ['matric', 'method', 1], ['lambda', 'solut', 1], ['matric', 'solut', 1], ['matric', 'system', 1], ['method', 'numer', 1], ['solut', 'numer', 1], ['system', 'numer', 1], ['numer', 'system', 1], ['system', 'special', 2], ['numer', 'special', 1], ['numer', 'kind', 1], ['system', 'kind', 1], ['special', 'kind', 1]]\n"
     ]
    }
   ],
   "source": [
    "# build the graph\n",
    "g = terms_to_graph(my_tokens, w=4)\n",
    "print(\"Number of vertices = \", len(g.vs))\n",
    "print(\"Number of edges    = \", len(g.es))\n",
    "assert len(g.vs) == len(set(my_tokens)) # the number of nodes should be equal to the number of unique terms\n",
    "\n",
    "edge_weights = []\n",
    "for edge in g.es:\n",
    "    source = g.vs[edge.source]['name']\n",
    "    target = g.vs[edge.target]['name']\n",
    "    weight = edge['weight']\n",
    "    edge_weights.append([source, target, weight])\n",
    "\n",
    "print(edge_weights)"
   ]
  },
  {
   "cell_type": "code",
   "execution_count": 5,
   "metadata": {
    "scrolled": false
   },
   "outputs": [
    {
     "name": "stdout",
     "output_type": "stream",
     "text": [
      "0.10606060606060606\n",
      "0.21212121212121213\n",
      "0.3181818181818182\n",
      "0.41666666666666663\n",
      "0.5227272727272727\n",
      "0.5833333333333334\n",
      "0.6287878787878788\n",
      "0.6666666666666666\n",
      "0.696969696969697\n",
      "0.7196969696969697\n",
      "0.7424242424242423\n",
      "0.7575757575757577\n",
      "0.7727272727272727\n",
      "0.7878787878787878\n",
      "0.7954545454545454\n",
      "0.8030303030303031\n",
      "0.8030303030303031\n",
      "0.8030303030303031\n",
      "0.8030303030303031\n",
      "0.8030303030303031\n",
      "0.8030303030303031\n",
      "\n",
      "Sliding window size increases => Density increases. \n",
      "It is never reaching 1 simply because edges are weighted\n",
      "(some pairs of unique words can appear together in multiple windows)\n"
     ]
    }
   ],
   "source": [
    "# build a graph-of-words g\n",
    "for w in range(2,min(len(my_tokens)+1,30)):\n",
    "    g = terms_to_graph(my_tokens, w=w)\n",
    "    print(g.density())\n",
    "\n",
    "print(\"\"\"\\nSliding window size increases => Density increases. \n",
    "It is never reaching 1 simply because edges are weighted\n",
    "(some pairs of unique words can appear together in multiple windows)\"\"\")"
   ]
  },
  {
   "cell_type": "code",
   "execution_count": 6,
   "metadata": {
    "scrolled": true
   },
   "outputs": [
    {
     "name": "stdout",
     "output_type": "stream",
     "text": [
      "{'algebra': 16, 'equat': 16, 'kind': 11, 'lambda': 16, 'linear': 16, 'm-dimension': 16, 'matric': 11, 'method': 16, 'numer': 11, 'solut': 16, 'special': 11, 'system': 16}\n",
      "{'algebra': 16, 'equat': 16, 'kind': 11, 'lambda': 16, 'linear': 16, 'm-dimension': 16, 'matric': 11, 'method': 16, 'numer': 11, 'solut': 16, 'special': 11, 'system': 16}\n"
     ]
    }
   ],
   "source": [
    "# decompose g\n",
    "core_numbers = unweighted_k_core(g)\n",
    "print(core_numbers)\n",
    "\n",
    "# compare with igraph method\n",
    "print(dict(zip(g.vs['name'],g.coreness())))"
   ]
  },
  {
   "cell_type": "code",
   "execution_count": 7,
   "metadata": {},
   "outputs": [
    {
     "name": "stdout",
     "output_type": "stream",
     "text": [
      "['algebra', 'equat', 'lambda', 'linear', 'm-dimension', 'method', 'solut', 'system']\n"
     ]
    }
   ],
   "source": [
    "# retain main core as keywords\n",
    "max_c_n = max(list(core_numbers.values()))\n",
    "keywords = [key for key, core in core_numbers.items() if core == max_c_n]\n",
    "print(keywords)"
   ]
  }
 ],
 "metadata": {
  "kernelspec": {
   "display_name": "Python 3",
   "language": "python",
   "name": "python3"
  },
  "language_info": {
   "codemirror_mode": {
    "name": "ipython",
    "version": 3
   },
   "file_extension": ".py",
   "mimetype": "text/x-python",
   "name": "python",
   "nbconvert_exporter": "python",
   "pygments_lexer": "ipython3",
   "version": "3.6.8"
  }
 },
 "nbformat": 4,
 "nbformat_minor": 2
}
